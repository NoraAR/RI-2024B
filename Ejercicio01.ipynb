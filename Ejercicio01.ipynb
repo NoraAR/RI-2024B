{
 "cells": [
  {
   "cell_type": "markdown",
   "id": "7266022d411c887f",
   "metadata": {},
   "source": [
    "# Ejercicio 01: Recuperación de Información Basado en el Modelo de Matriz Término-Documento\n",
    "\n",
    "En este ejercicio, trabajaremos con un corpus de documentos en formato JSON para implementar un sistema de Recuperación de Información basado en el modelo de espacio vectorial. Seguirás los siguientes pasos:"
   ]
  },
  {
   "cell_type": "markdown",
   "id": "b20440e0de103cf3",
   "metadata": {},
   "source": [
    "## Paso 1: Determinar un vocabulario\n",
    "El primer paso es cargar el corpus en formato JSON, extraer los textos de los documentos y crear el vocabulario."
   ]
  },
  {
   "cell_type": "code",
   "execution_count": 36,
   "id": "initial_id",
   "metadata": {
    "ExecuteTime": {
     "end_time": "2024-10-22T12:22:34.639750Z",
     "start_time": "2024-10-22T12:22:34.631518Z"
    },
    "collapsed": true
   },
   "outputs": [],
   "source": [
    "import json\n",
    "\n",
    "datos = []\n",
    "with open(file='../data/01tdmatrix_corpus.json', mode='r', encoding='utf-8') as file:\n",
    "    datos = json.load(file)"
   ]
  },
  {
   "cell_type": "code",
   "execution_count": 37,
   "id": "1cad34a871eac562",
   "metadata": {
    "ExecuteTime": {
     "end_time": "2024-10-22T12:28:42.503285Z",
     "start_time": "2024-10-22T12:28:42.487436Z"
    }
   },
   "outputs": [
    {
     "name": "stdout",
     "output_type": "stream",
     "text": [
      "la inteligencia artificial continúa avanzando rápidamente, transformando sectores como la salud y las finanzas. las empresas están adoptando algoritmos de aprendizaje automático para mejorar la eficiencia. sin embargo, el desafío principal sigue siendo garantizar que las decisiones basadas en datos sean justas y no perpetúen sesgos. la ética es fundamental en este contexto.\n"
     ]
    }
   ],
   "source": [
    "print(datos[0]['text'].lower())"
   ]
  },
  {
   "cell_type": "code",
   "execution_count": 38,
   "id": "186d5925bdd633b0",
   "metadata": {
    "ExecuteTime": {
     "end_time": "2024-10-22T12:29:11.334724Z",
     "start_time": "2024-10-22T12:29:11.319181Z"
    }
   },
   "outputs": [
    {
     "name": "stdout",
     "output_type": "stream",
     "text": [
      "['la', 'inteligencia', 'artificial', 'continúa', 'avanzando', 'rápidamente,', 'transformando', 'sectores', 'como', 'la', 'salud', 'y', 'las', 'finanzas.', 'las', 'empresas', 'están', 'adoptando', 'algoritmos', 'de', 'aprendizaje', 'automático', 'para', 'mejorar', 'la', 'eficiencia.', 'sin', 'embargo,', 'el', 'desafío', 'principal', 'sigue', 'siendo', 'garantizar', 'que', 'las', 'decisiones', 'basadas', 'en', 'datos', 'sean', 'justas', 'y', 'no', 'perpetúen', 'sesgos.', 'la', 'ética', 'es', 'fundamental', 'en', 'este', 'contexto.']\n"
     ]
    }
   ],
   "source": [
    "print(datos[0]['text'].lower().split())"
   ]
  },
  {
   "cell_type": "code",
   "execution_count": 39,
   "id": "63b4fbc92a3a663d",
   "metadata": {
    "ExecuteTime": {
     "end_time": "2024-10-22T12:29:44.074040Z",
     "start_time": "2024-10-22T12:29:44.059539Z"
    }
   },
   "outputs": [
    {
     "name": "stdout",
     "output_type": "stream",
     "text": [
      "{'datos', 'continúa', 'avanzando', 'sean', 'sectores', 'principal', 'de', 'y', 'no', 'salud', 'siendo', 'decisiones', 'en', 'contexto.', 'embargo,', 'finanzas.', 'algoritmos', 'perpetúen', 'que', 'sin', 'garantizar', 'este', 'mejorar', 'la', 'adoptando', 'automático', 'sigue', 'es', 'desafío', 'rápidamente,', 'aprendizaje', 'ética', 'justas', 'inteligencia', 'sesgos.', 'eficiencia.', 'empresas', 'transformando', 'están', 'para', 'como', 'el', 'basadas', 'fundamental', 'las', 'artificial'}\n",
      "46\n"
     ]
    }
   ],
   "source": [
    "vocab = set(datos[0]['text'].lower().split())\n",
    "print(vocab)\n",
    "print(len(vocab))"
   ]
  },
  {
   "cell_type": "code",
   "execution_count": 40,
   "id": "5eded2ae4aeba3e2",
   "metadata": {
    "ExecuteTime": {
     "end_time": "2024-10-22T12:36:39.293698Z",
     "start_time": "2024-10-22T12:36:39.280871Z"
    }
   },
   "outputs": [
    {
     "name": "stdout",
     "output_type": "stream",
     "text": [
      "230\n",
      "{'continúa', 'otros', 'uno', 'donde', 'personas', 'profesionales', 'decisiones', 'sino', 'acceder', 'se', 'personalizadas', 'tecnología', 'promueven', 'creciente', 'realistas', 'libros', 'perpetúen', 'experiencia', 'este', 'herramientas', 'consume', 'transacciones', 'contenido', 'enfermedades', 'crear', 'ubicación', 'es', 'telemedicina', 'mundos', 'ética', 'aumento', 'empresas', 'médicos', 'están', 'nuevas', 'para', 'entretiene', 'saludables', 'mercado', 'accesibles', 'enfoque', 'personal', 'plataformas', 'fundamental', 'literarios', 'impulsa', 'artificial', 'portátiles', 'avanzando', 'desarrollo', 'principal', 'tecnologías', 'digitales', 'virtuales', 'está', 'vida', 'integral', 'streaming', 'educativa', 'no', 'bienestar', 'transformado', 'prometedor', 'en', 'ha', 'medicina', 'utilizan', 'avanzadas', 'ficción', 'solo', 'cursos', 'distancia', 'mejores', 'rápidos', 'facilitando', 'series', 'populares', 'escenas', 'su', 'humanidad', 'mejorar', 'permitiendo', 'compramos', 'desafío', 'individual', 'nuevo', 'los', 'personalizados', 'sobre', 'futuro', 'línea', 'género', 'pagos', 'cambiado', 'desde', 'explorando', 'electrónico', 'tecnológicos', 'compras', 'cuándo', 'rápidamente', 'con', 'como', 'espectadores', 'usuario', 'invita', 'convertido', 'muchas', 'además', 'películas', 'competencias', 'las', 'finanzas', 'mejorando', 'desafían', 'sectores', 'tratamientos', 'incorporando', 'y', 'visuales', 'permitido', 'salud', 'aplicaciones', 'siendo', 'adopción', 'mayores', 'eficiencia', 'millones', 'optimizando', 'hasta', 'inmersivos', 'vez', 'ciencia', 'implicaciones', 'mundo', 'llevado', 'diarias', 'prioridad', 'diagnostican', 'géneros', 'e-sports', 'sigue', 'la', 'ofrecer', 'avances', 'demanda', 'aprendizaje', 'habilidades', 'forma', 'programas', 'todo', 'aunque', 'embargo', 'sesgos', 'el', 'recomendaciones', 'atraen', 'reflexionar', 'completo', 'evolucionado', 'presencial', 'realidad', 'basadas', 'flexibilidad', 'beneficios', 'videojuegos', 'acceso', 'buscan', 'consumidores', 'datos', 'cada', 'dispositivos', 'cuidados', 'tiempo', 'comercio', 'sean', 'alcanzado', 'tratan', 'de', 'contexto', 'cambiando', 'público', 'una', 'aumentada', 'efectos', 'sus', 'cine', 'también', 'un', 'hábitos', 'ahora', 'especialmente', 'falta', 'reto', 'monitorean', 'siguen', 'algoritmos', 'interacción', 'que', 'más', 'experiencias', 'sin', 'trabajos', 'garantizar', 'cinematográficas', 'real', 'adoptando', 'automático', 'a', 'educación', 'interactuar', 'viaje', 'jugadores', 'importar', 'pueden', 'justas', 'inteligencia', 'planetas', 'eficaces', 'democratizando', 'temas', 'estudiantes', 'crecimiento', 'transformando', 'años', 'aquellos', 'calidad', 'cómo', 'producciones', 'nivel'}\n"
     ]
    }
   ],
   "source": [
    "vocab = []\n",
    "for i in range(0,len(datos)):\n",
    "    vocab.extend(datos[i]['text'].lower().replace(',','').replace('.','').split())\n",
    "\n",
    "vocab = set(vocab)\n",
    "print(len(vocab))\n",
    "print(vocab)"
   ]
  },
  {
   "cell_type": "markdown",
   "id": "549d0d8b6f7ed0a2",
   "metadata": {},
   "source": [
    "## Paso 2: Calcular una matriz término-documento\n",
    "Una vez que tenemos el vocabulario, el siguiente paso es construir una **matriz término-documento**, que nos permitirá representar cada documento como un vector en el espacio de términos."
   ]
  },
  {
   "cell_type": "code",
   "execution_count": 41,
   "id": "4b35c2996c774ec2",
   "metadata": {
    "ExecuteTime": {
     "end_time": "2024-10-22T13:00:04.977448Z",
     "start_time": "2024-10-22T13:00:04.961452Z"
    }
   },
   "outputs": [],
   "source": [
    "def tdtransform(text):\n",
    "    doc = []\n",
    "    for word in vocab:\n",
    "        if word in text.lower().replace(',','').replace('.','').split():\n",
    "           doc.append(1)\n",
    "        else:\n",
    "            doc.append(0)\n",
    "    return doc"
   ]
  },
  {
   "cell_type": "code",
   "execution_count": 42,
   "id": "1b052a6cd19731a5",
   "metadata": {
    "ExecuteTime": {
     "end_time": "2024-10-22T13:00:30.419629Z",
     "start_time": "2024-10-22T13:00:30.382836Z"
    }
   },
   "outputs": [
    {
     "name": "stdout",
     "output_type": "stream",
     "text": [
      "[1, 0, 0, 0, 0, 0, 1, 0, 0, 0, 0, 0, 0, 0, 0, 0, 1, 0, 1, 0, 0, 0, 0, 0, 0, 0, 1, 0, 0, 1, 0, 1, 0, 1, 0, 1, 0, 0, 0, 0, 0, 0, 0, 1, 0, 0, 1, 0, 1, 0, 1, 0, 0, 0, 0, 0, 0, 0, 0, 1, 0, 0, 0, 1, 0, 0, 0, 0, 0, 0, 0, 0, 0, 0, 0, 0, 0, 0, 0, 0, 1, 0, 0, 1, 0, 0, 0, 0, 0, 0, 0, 0, 0, 0, 0, 0, 0, 0, 0, 0, 1, 0, 1, 0, 0, 0, 0, 0, 0, 0, 0, 1, 1, 0, 0, 1, 0, 0, 1, 0, 0, 1, 0, 1, 0, 0, 1, 0, 0, 0, 0, 0, 0, 0, 0, 0, 0, 0, 0, 0, 0, 1, 1, 0, 0, 0, 1, 0, 0, 0, 0, 0, 1, 1, 1, 0, 0, 0, 0, 0, 0, 0, 1, 0, 0, 0, 0, 0, 0, 1, 0, 0, 0, 0, 0, 1, 0, 0, 1, 1, 0, 0, 0, 0, 0, 0, 0, 0, 0, 0, 0, 0, 0, 0, 0, 0, 1, 0, 1, 0, 0, 1, 0, 1, 0, 0, 1, 1, 0, 0, 0, 0, 0, 0, 0, 1, 1, 0, 0, 0, 0, 0, 0, 1, 0, 0, 0, 0, 0, 0]\n"
     ]
    }
   ],
   "source": [
    "tdmatrix = []\n",
    "\n",
    "for i in range(0,len(datos)):\n",
    "    doc = tdtransform(text=datos[i]['text'])\n",
    "    tdmatrix.append(doc)\n",
    "\n",
    "print(tdmatrix[0])"
   ]
  },
  {
   "cell_type": "markdown",
   "id": "a0abcd20f7bb7c44",
   "metadata": {},
   "source": [
    "## Paso 3: Obtener una representación de una _query_ en el espacio término-documento\n",
    "Ahora vamos a representar una _query_ como un vector en el mismo espacio de términos que hicimos para el corpus."
   ]
  },
  {
   "cell_type": "code",
   "execution_count": 72,
   "id": "f4abdc2c22664498",
   "metadata": {
    "ExecuteTime": {
     "end_time": "2024-10-22T13:01:09.239680Z",
     "start_time": "2024-10-22T13:01:09.223561Z"
    }
   },
   "outputs": [
    {
     "name": "stdout",
     "output_type": "stream",
     "text": [
      "[0, 0, 0, 0, 0, 0, 0, 0, 0, 0, 0, 0, 0, 0, 0, 0, 0, 0, 0, 0, 0, 0, 0, 0, 0, 0, 0, 0, 0, 0, 0, 0, 0, 0, 0, 0, 0, 0, 0, 0, 0, 0, 0, 0, 0, 0, 1, 0, 0, 0, 0, 0, 0, 0, 0, 0, 0, 0, 0, 0, 0, 0, 0, 1, 0, 1, 0, 0, 0, 0, 0, 0, 0, 0, 0, 0, 0, 0, 0, 0, 0, 0, 0, 0, 0, 0, 0, 0, 0, 0, 0, 0, 0, 0, 0, 0, 0, 0, 0, 0, 0, 0, 0, 0, 0, 0, 0, 0, 0, 0, 0, 0, 0, 0, 0, 0, 0, 0, 0, 0, 0, 0, 0, 0, 0, 0, 0, 0, 0, 0, 0, 0, 0, 0, 0, 0, 0, 0, 0, 0, 0, 0, 0, 0, 0, 0, 0, 0, 0, 0, 0, 0, 0, 0, 0, 0, 0, 0, 0, 0, 0, 0, 0, 0, 0, 0, 0, 0, 0, 0, 0, 0, 0, 0, 0, 0, 0, 0, 0, 0, 0, 0, 0, 0, 0, 0, 0, 0, 0, 0, 0, 0, 0, 0, 0, 0, 0, 0, 0, 0, 0, 0, 0, 0, 0, 0, 0, 0, 0, 0, 0, 0, 0, 0, 0, 0, 1, 0, 0, 0, 0, 0, 0, 0, 0, 0, 0, 0, 0, 0]\n",
      "44\n",
      "5\n"
     ]
    }
   ],
   "source": [
    "queries = [\"inteligencia artificial en medicina\",\n",
    "           \"beneficios de la educacion a distancia\",\n",
    "           \"realidad aumentada en videojuegos\",\n",
    "           \"desarrollo personal y habitos saludables\",\n",
    "           \"futuro del comercio electronico\",\n",
    "           \"tecnologias en cine moderno\",\n",
    "           \"competencias de e-sports\",\n",
    "           \"diagnostico con dispositivos portatiles\",\n",
    "           \"literatura de ciencia ficcion\",\n",
    "           \"plataformas de streaming\"\n",
    "           ]\n",
    "\n",
    "tdqueries = []\n",
    "\n",
    "for i in range(0,len(queries)):\n",
    "    \n",
    "    query = tdtransform(text=queries[i])\n",
    "    tdqueries.append(query)\n",
    "print(tdqueries[0])\n",
    "print(tdmatrix[1].count(1))\n",
    "print(tdqueries[1].count(1))"
   ]
  },
  {
   "cell_type": "markdown",
   "id": "49b612552e0a24cb",
   "metadata": {},
   "source": [
    "## Paso 4: Calcular la distancia entre la _query_ y todos los documentos del corpus\n",
    "Al obtener la distancia Jaccard entre la _query_ y cada documento del corpus, calculamos la relevancia que tiene cada documento para la _query_ "
   ]
  },
  {
   "cell_type": "markdown",
   "id": "d6832a8d",
   "metadata": {},
   "source": [
    "La formula para calcular la distancia Jaccard es la: |A ∩ B| / |A ∪ B| que tambien se puede rerpesentar como  |A ∩ B| / |A| +|B|-|A ∩ B|, trabajaremos con las segunda representación.\n"
   ]
  },
  {
   "cell_type": "code",
   "execution_count": 158,
   "id": "b60c6b18c45dcb83",
   "metadata": {},
   "outputs": [
    {
     "data": {
      "text/plain": [
       "[[0.064, 0.041, 0.02, 0.02, 0.0, 0.021, 0.021, 0.0, 0.021, 0.021],\n",
       " [0.067, 0.065, 0.091, 0.043, 0.0, 0.022, 0.068, 0.022, 0.022, 0.022],\n",
       " [0.022, 0.044, 0.022, 0.0, 0.023, 0.023, 0.023, 0.023, 0.023, 0.047],\n",
       " [0.0, 0.119, 0.0, 0.0, 0.0, 0.0, 0.023, 0.023, 0.023, 0.023],\n",
       " [0.0, 0.067, 0.022, 0.022, 0.0, 0.023, 0.022, 0.023, 0.023, 0.07],\n",
       " [0.07, 0.068, 0.022, 0.022, 0.023, 0.023, 0.023, 0.0, 0.048, 0.023],\n",
       " [0.022, 0.067, 0.022, 0.093, 0.0, 0.023, 0.022, 0.0, 0.023, 0.022],\n",
       " [0.045, 0.068, 0.022, 0.022, 0.023, 0.023, 0.023, 0.048, 0.023, 0.023]]"
      ]
     },
     "execution_count": 158,
     "metadata": {},
     "output_type": "execute_result"
    }
   ],
   "source": [
    "def distanceJaccard(docs, queries):\n",
    "    jaccardMatrix = []\n",
    "    for i in range(len(docs)):\n",
    "        distanceMatrix = []\n",
    "        for j in range(len(queries)):\n",
    "            intersection = 0\n",
    "            for k in range(len(docs[0])):   \n",
    "                # Con el condicional se realiza la interseccion entre los elementos de la matriz termino-documento\n",
    "                # y la matriz queries que contiene las consultas en el espacio de la matriz termino-documento \n",
    "                # y utilizamos el contador intersection para saber cual es el numero total de intersecciones.   \n",
    "                if docs[i][k] == 1 and queries[j][k] == 1:\n",
    "                    intersection += 1\n",
    "            # Para la union necesitamos la cantidad de terminos que contiene el documento segun la matriz termino-documento\n",
    "            # y de igual forma la cantidad de terminos que se encuentran en la consulta en el espacio de la matriz termino-documento\n",
    "            # y se le resta la interseccion que fue previamente calculada.\n",
    "            union = docs[i].count(1) + queries[j].count(1) - intersection\n",
    "            # Se calcula la distancia segun la formula\n",
    "            distance = intersection / union\n",
    "            #Se agrega en otra matriz para un mejor orden\n",
    "            distanceMatrix.append(round(distance, 3))\n",
    "        jaccardMatrix.append(distanceMatrix)\n",
    "        \n",
    "    return jaccardMatrix\n",
    "\n",
    "searchMatrix = distanceJaccard (tdmatrix,tdqueries)\n",
    "distanceJaccard (tdmatrix,tdqueries)\n",
    "\n",
    "\n"
   ]
  },
  {
   "cell_type": "markdown",
   "id": "3173b4cbd523e996",
   "metadata": {},
   "source": [
    "## Paso 5: Entregar los resultados de la búsqueda al usuario\n",
    "A partir de la _query_, debemos indicar al usuario cuáles documentos son los más relevantes. Se debe presentar la información en orden de relevancia."
   ]
  },
  {
   "cell_type": "code",
   "execution_count": 159,
   "id": "a42b03b1bb879635",
   "metadata": {},
   "outputs": [
    {
     "name": "stdout",
     "output_type": "stream",
     "text": [
      "Query 1\n",
      "{'Doc 6': 0.07, 'Doc 2': 0.067, 'Doc 1': 0.064, 'Doc 8': 0.045, 'Doc 3': 0.022, 'Doc 7': 0.022, 'Doc 4': 0.0, 'Doc 5': 0.0}\n",
      "\n",
      "Query 2\n",
      "{'Doc 4': 0.119, 'Doc 6': 0.068, 'Doc 8': 0.068, 'Doc 7': 0.067, 'Doc 5': 0.067, 'Doc 2': 0.065, 'Doc 3': 0.044, 'Doc 1': 0.041}\n",
      "\n",
      "Query 3\n",
      "{'Doc 2': 0.091, 'Doc 6': 0.022, 'Doc 8': 0.022, 'Doc 7': 0.022, 'Doc 5': 0.022, 'Doc 3': 0.022, 'Doc 1': 0.02, 'Doc 4': 0.0}\n",
      "\n",
      "Query 4\n",
      "{'Doc 7': 0.093, 'Doc 2': 0.043, 'Doc 6': 0.022, 'Doc 8': 0.022, 'Doc 5': 0.022, 'Doc 1': 0.02, 'Doc 3': 0.0, 'Doc 4': 0.0}\n",
      "\n",
      "Query 5\n",
      "{'Doc 6': 0.023, 'Doc 8': 0.023, 'Doc 3': 0.023, 'Doc 7': 0.0, 'Doc 2': 0.0, 'Doc 5': 0.0, 'Doc 1': 0.0, 'Doc 4': 0.0}\n",
      "\n",
      "Query 6\n",
      "{'Doc 6': 0.023, 'Doc 8': 0.023, 'Doc 3': 0.023, 'Doc 7': 0.023, 'Doc 5': 0.023, 'Doc 2': 0.022, 'Doc 1': 0.021, 'Doc 4': 0.0}\n",
      "\n",
      "Query 7\n",
      "{'Doc 2': 0.068, 'Doc 6': 0.023, 'Doc 8': 0.023, 'Doc 3': 0.023, 'Doc 4': 0.023, 'Doc 7': 0.022, 'Doc 5': 0.022, 'Doc 1': 0.021}\n",
      "\n",
      "Query 8\n",
      "{'Doc 8': 0.048, 'Doc 3': 0.023, 'Doc 4': 0.023, 'Doc 5': 0.023, 'Doc 2': 0.022, 'Doc 6': 0.0, 'Doc 7': 0.0, 'Doc 1': 0.0}\n",
      "\n",
      "Query 9\n",
      "{'Doc 6': 0.048, 'Doc 8': 0.023, 'Doc 3': 0.023, 'Doc 4': 0.023, 'Doc 5': 0.023, 'Doc 7': 0.023, 'Doc 2': 0.022, 'Doc 1': 0.021}\n",
      "\n",
      "Query 10\n",
      "{'Doc 5': 0.07, 'Doc 3': 0.047, 'Doc 6': 0.023, 'Doc 8': 0.023, 'Doc 4': 0.023, 'Doc 7': 0.022, 'Doc 2': 0.022, 'Doc 1': 0.021}\n",
      "\n"
     ]
    }
   ],
   "source": [
    "rows = len(searchMatrix)\n",
    "cols = len(searchMatrix[0])\n",
    "rankingMatrix= []\n",
    "dicRanking = {}\n",
    "#Creamos un diccionario para saber el numero de documento en el cual existe mayor relevancia segun la consulta\n",
    "for j in range(0,cols):\n",
    "    print(f\"Query {j+1}\")\n",
    "    for i in range(0,rows):\n",
    "        dicRanking.update({f\"Doc {i+1}\": searchMatrix[i][j]})\n",
    "    #Ordenamos segun el orden de relevancia\n",
    "    dicRanking = dict(sorted(dicRanking.items(), key=lambda item: item[1], reverse=True))\n",
    "\n",
    "    print(f\"{dicRanking}\\n\")\n"
   ]
  }
 ],
 "metadata": {
  "kernelspec": {
   "display_name": "Python 3",
   "language": "python",
   "name": "python3"
  },
  "language_info": {
   "codemirror_mode": {
    "name": "ipython",
    "version": 3
   },
   "file_extension": ".py",
   "mimetype": "text/x-python",
   "name": "python",
   "nbconvert_exporter": "python",
   "pygments_lexer": "ipython3",
   "version": "3.12.5"
  }
 },
 "nbformat": 4,
 "nbformat_minor": 5
}
