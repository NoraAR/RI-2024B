{
  "cells": [
    {
      "cell_type": "markdown",
      "id": "2d2219b455c1e0ef",
      "metadata": {
        "id": "2d2219b455c1e0ef"
      },
      "source": [
        "# Ejercicio 02: Cálculo de la Matriz TF-IDF y Búsqueda de Consultas en un Corpus\n",
        "\n",
        "El objetivo de este ejercicio es calcular la matriz TF-IDF de un corpus de documentos y luego aplicar una serie de consultas para recuperar los documentos más relevantes. Este ejercicio te ayudará a comprender cómo funciona el modelo de espacio vectorial y cómo se utiliza TF-IDF para ponderar términos en documentos y consultas.\n",
        "\n",
        "Seguirás los siguientes pasos:"
      ]
    },
    {
      "cell_type": "markdown",
      "id": "8fa1290fb0f5143d",
      "metadata": {
        "id": "8fa1290fb0f5143d"
      },
      "source": [
        "Pasos del Ejercicio\n",
        "\n",
        "1. Preprocesamiento del texto:\n",
        "    * Lectura del corpus desde el archivo TXT.\n",
        "    * Tokenización de los documentos.\n",
        "    * Normalización del texto (conversión a minúsculas, eliminación de signos de puntuación).\n",
        "    * Eliminación de palabras vacías (stopwords).\n",
        "\n",
        "2. Construcción de la matriz TF-IDF:\n",
        "    * Cálculo de la frecuencia de término (TF) para cada término en cada documento.\n",
        "    * Cálculo de la frecuencia inversa de documento (IDF) para cada término en el corpus.\n",
        "    * Cálculo del peso TF-IDF para cada término en cada documento.\n",
        "\n",
        "3. Procesamiento de las consultas:\n",
        "    * Preprocesamiento de las consultas de manera similar a los documentos.\n",
        "    * Representación de las consultas en el espacio vectorial TF-IDF.\n",
        "\n",
        "4. Cálculo de similitudes:\n",
        "    * Cálculo de la similitud entre cada consulta y los documentos del corpus utilizando la similitud del coseno.\n",
        "\n",
        "5. Ranking de documentos:\n",
        "    * Ordenar los documentos de mayor a menor similitud para cada consulta.\n",
        "    * Mostrar los documentos más relevantes para cada consulta."
      ]
    },
    {
      "cell_type": "markdown",
      "id": "431356e916e78a3f",
      "metadata": {
        "id": "431356e916e78a3f"
      },
      "source": [
        "Consultas\n",
        "\n",
        "Las consultas a aplicar son las siguientes:\n",
        "\n",
        "    \"inteligencia artificial en medicina\"\n",
        "    \"beneficios de la educación a distancia\"\n",
        "    \"realidad aumentada en videojuegos\"\n",
        "    \"desarrollo personal y hábitos saludables\"\n",
        "    \"futuro del comercio electrónico\"\n",
        "    \"tecnologías en cine moderno\"\n",
        "    \"competencias de e-sports\"\n",
        "    \"diagnóstico con dispositivos portátiles\"\n",
        "    \"literatura de ciencia ficción\"\n",
        "    \"plataformas de streaming\""
      ]
    },
    {
      "cell_type": "markdown",
      "id": "2iS2nlVHUqUl",
      "metadata": {
        "id": "2iS2nlVHUqUl"
      },
      "source": [
        "# 1. Preprocesamiento del texto\n"
      ]
    },
    {
      "cell_type": "code",
      "execution_count": 11,
      "id": "initial_id",
      "metadata": {
        "collapsed": true,
        "id": "initial_id"
      },
      "outputs": [],
      "source": [
        "#Lectura del corpus\n",
        "corpus = []\n",
        "with open(r'/content/02tfidfmatrix_corpus.txt','r') as archivo:\n",
        "  for linea in archivo:\n",
        "    corpus.append(linea.split(':')[1])"
      ]
    },
    {
      "cell_type": "code",
      "execution_count": 12,
      "id": "GCV5JxwufwPU",
      "metadata": {
        "colab": {
          "base_uri": "https://localhost:8080/"
        },
        "id": "GCV5JxwufwPU",
        "outputId": "ff88f209-d888-430d-c9eb-db8464bb4c4c"
      },
      "outputs": [
        {
          "output_type": "stream",
          "name": "stdout",
          "text": [
            "[' La inteligencia artificial continúa avanzando rápidamente, transformando sectores como la salud y las finanzas. Las empresas están adoptando algoritmos de aprendizaje automático para mejorar la eficiencia. Sin embargo, el desafío principal sigue siendo garantizar que las decisiones basadas en datos sean justas y no perpetúen sesgos. La ética es fundamental en este contexto.\\n', ' El desarrollo de videojuegos ha alcanzado un nuevo nivel con tecnologías como la realidad aumentada y la inteligencia artificial. Los jugadores ahora pueden interactuar en mundos virtuales más inmersivos. Este crecimiento también impulsa el mercado de los e-sports, donde las competencias profesionales atraen a millones de espectadores en todo el mundo.\\n', ' El comercio electrónico ha cambiado la forma en que compramos. Con la creciente demanda de compras en línea, las empresas están optimizando sus plataformas digitales para ofrecer mejores experiencias de usuario. Desde recomendaciones personalizadas hasta pagos rápidos, los avances en tecnología siguen facilitando las transacciones diarias de los consumidores.\\n', ' La educación a distancia ha permitido a millones de estudiantes acceder a programas de calidad sin importar su ubicación. La flexibilidad es uno de los mayores beneficios, especialmente para aquellos con trabajos a tiempo completo. Aunque la falta de interacción presencial es un reto, las herramientas digitales siguen mejorando la experiencia educativa.\\n', ' El cine ha evolucionado con los años, incorporando efectos visuales cada vez más realistas. Las producciones cinematográficas utilizan tecnologías avanzadas para crear escenas que desafían la realidad. Además, el acceso a plataformas de streaming ha transformado cómo y cuándo el público consume contenido, democratizando el acceso a películas y series.\\n', ' La ciencia ficción es uno de los géneros literarios más populares, explorando temas como el viaje en el tiempo, la inteligencia artificial y la vida en otros planetas. Este género no solo entretiene, sino que también invita a reflexionar sobre el futuro de la humanidad y las implicaciones de los avances tecnológicos.\\n', ' El desarrollo personal se ha convertido en una prioridad para muchas personas que buscan mejorar su calidad de vida. Desde la adopción de hábitos saludables hasta el aprendizaje de nuevas habilidades, el enfoque en el crecimiento individual ha llevado a un aumento en la demanda de libros, cursos y aplicaciones que promueven el bienestar integral.\\n', ' Los avances en la medicina están cambiando la forma en que se diagnostican y tratan las enfermedades. Desde la telemedicina hasta los dispositivos portátiles que monitorean la salud en tiempo real, la tecnología está permitiendo a los médicos ofrecer cuidados más personalizados. El futuro de la medicina es prometedor, con tratamientos más accesibles y eficaces.\\n']\n"
          ]
        }
      ],
      "source": [
        "print(corpus)"
      ]
    },
    {
      "cell_type": "code",
      "execution_count": 13,
      "id": "S_pyAr4ZgKH0",
      "metadata": {
        "colab": {
          "base_uri": "https://localhost:8080/"
        },
        "id": "S_pyAr4ZgKH0",
        "outputId": "fe2d888f-3b46-4f60-a06c-43ff0fb5651f"
      },
      "outputs": [
        {
          "output_type": "stream",
          "name": "stdout",
          "text": [
            "[['la', 'inteligencia', 'artificial', 'continúa', 'avanzando', 'rápidamente', 'transformando', 'sectores', 'como', 'la', 'salud', 'y', 'las', 'finanzas', 'las', 'empresas', 'están', 'adoptando', 'algoritmos', 'de', 'aprendizaje', 'automático', 'para', 'mejorar', 'la', 'eficiencia', 'sin', 'embargo', 'el', 'desafío', 'principal', 'sigue', 'siendo', 'garantizar', 'que', 'las', 'decisiones', 'basadas', 'en', 'datos', 'sean', 'justas', 'y', 'no', 'perpetúen', 'sesgos', 'la', 'ética', 'es', 'fundamental', 'en', 'este', 'contexto'], ['el', 'desarrollo', 'de', 'videojuegos', 'ha', 'alcanzado', 'un', 'nuevo', 'nivel', 'con', 'tecnologías', 'como', 'la', 'realidad', 'aumentada', 'y', 'la', 'inteligencia', 'artificial', 'los', 'jugadores', 'ahora', 'pueden', 'interactuar', 'en', 'mundos', 'virtuales', 'más', 'inmersivos', 'este', 'crecimiento', 'también', 'impulsa', 'el', 'mercado', 'de', 'los', 'e-sports', 'donde', 'las', 'competencias', 'profesionales', 'atraen', 'a', 'millones', 'de', 'espectadores', 'en', 'todo', 'el', 'mundo'], ['el', 'comercio', 'electrónico', 'ha', 'cambiado', 'la', 'forma', 'en', 'que', 'compramos', 'con', 'la', 'creciente', 'demanda', 'de', 'compras', 'en', 'línea', 'las', 'empresas', 'están', 'optimizando', 'sus', 'plataformas', 'digitales', 'para', 'ofrecer', 'mejores', 'experiencias', 'de', 'usuario', 'desde', 'recomendaciones', 'personalizadas', 'hasta', 'pagos', 'rápidos', 'los', 'avances', 'en', 'tecnología', 'siguen', 'facilitando', 'las', 'transacciones', 'diarias', 'de', 'los', 'consumidores'], ['la', 'educación', 'a', 'distancia', 'ha', 'permitido', 'a', 'millones', 'de', 'estudiantes', 'acceder', 'a', 'programas', 'de', 'calidad', 'sin', 'importar', 'su', 'ubicación', 'la', 'flexibilidad', 'es', 'uno', 'de', 'los', 'mayores', 'beneficios', 'especialmente', 'para', 'aquellos', 'con', 'trabajos', 'a', 'tiempo', 'completo', 'aunque', 'la', 'falta', 'de', 'interacción', 'presencial', 'es', 'un', 'reto', 'las', 'herramientas', 'digitales', 'siguen', 'mejorando', 'la', 'experiencia', 'educativa'], ['el', 'cine', 'ha', 'evolucionado', 'con', 'los', 'años', 'incorporando', 'efectos', 'visuales', 'cada', 'vez', 'más', 'realistas', 'las', 'producciones', 'cinematográficas', 'utilizan', 'tecnologías', 'avanzadas', 'para', 'crear', 'escenas', 'que', 'desafían', 'la', 'realidad', 'además', 'el', 'acceso', 'a', 'plataformas', 'de', 'streaming', 'ha', 'transformado', 'cómo', 'y', 'cuándo', 'el', 'público', 'consume', 'contenido', 'democratizando', 'el', 'acceso', 'a', 'películas', 'y', 'series'], ['la', 'ciencia', 'ficción', 'es', 'uno', 'de', 'los', 'géneros', 'literarios', 'más', 'populares', 'explorando', 'temas', 'como', 'el', 'viaje', 'en', 'el', 'tiempo', 'la', 'inteligencia', 'artificial', 'y', 'la', 'vida', 'en', 'otros', 'planetas', 'este', 'género', 'no', 'solo', 'entretiene', 'sino', 'que', 'también', 'invita', 'a', 'reflexionar', 'sobre', 'el', 'futuro', 'de', 'la', 'humanidad', 'y', 'las', 'implicaciones', 'de', 'los', 'avances', 'tecnológicos'], ['el', 'desarrollo', 'personal', 'se', 'ha', 'convertido', 'en', 'una', 'prioridad', 'para', 'muchas', 'personas', 'que', 'buscan', 'mejorar', 'su', 'calidad', 'de', 'vida', 'desde', 'la', 'adopción', 'de', 'hábitos', 'saludables', 'hasta', 'el', 'aprendizaje', 'de', 'nuevas', 'habilidades', 'el', 'enfoque', 'en', 'el', 'crecimiento', 'individual', 'ha', 'llevado', 'a', 'un', 'aumento', 'en', 'la', 'demanda', 'de', 'libros', 'cursos', 'y', 'aplicaciones', 'que', 'promueven', 'el', 'bienestar', 'integral'], ['los', 'avances', 'en', 'la', 'medicina', 'están', 'cambiando', 'la', 'forma', 'en', 'que', 'se', 'diagnostican', 'y', 'tratan', 'las', 'enfermedades', 'desde', 'la', 'telemedicina', 'hasta', 'los', 'dispositivos', 'portátiles', 'que', 'monitorean', 'la', 'salud', 'en', 'tiempo', 'real', 'la', 'tecnología', 'está', 'permitiendo', 'a', 'los', 'médicos', 'ofrecer', 'cuidados', 'más', 'personalizados', 'el', 'futuro', 'de', 'la', 'medicina', 'es', 'prometedor', 'con', 'tratamientos', 'más', 'accesibles', 'y', 'eficaces']]\n"
          ]
        }
      ],
      "source": [
        "#tokenización y normalizacion corpus\n",
        "corpus_norm = []\n",
        "for doc in corpus:\n",
        "  corpus_norm.append(doc.lower().replace('.', '').replace(',', '').split())\n",
        "\n",
        "print(corpus_norm)\n"
      ]
    },
    {
      "cell_type": "code",
      "execution_count": 14,
      "id": "37fc2b_urWG3",
      "metadata": {
        "colab": {
          "base_uri": "https://localhost:8080/"
        },
        "id": "37fc2b_urWG3",
        "outputId": "6f2b6765-149c-48ef-d2a1-29a42bc72966"
      },
      "outputs": [
        {
          "output_type": "stream",
          "name": "stdout",
          "text": [
            "230\n",
            "{'y', 'flexibilidad', 'datos', 'transacciones', 'espectadores', 'competencias', 'este', 'streaming', 'aunque', 'incorporando', 'sean', 'enfermedades', 'es', 'ha', 'género', 'mayores', 'cada', 'perpetúen', 'utilizan', 'eficiencia', 'forma', 'implicaciones', 'temas', 'convertido', 'millones', 'la', 'crear', 'hábitos', 'interactuar', 'está', 'mundos', 'recomendaciones', 'más', 'atraen', 'ficción', 'justas', 'géneros', 'compras', 'cinematográficas', 'acceder', 'distancia', 'siendo', 'que', 'automático', 'comercio', 'realidad', 'público', 'literarios', 'sin', 'explorando', 'pueden', 'ahora', 'vida', 'se', 'cuándo', 'sus', 'real', 'personalizadas', 'jugadores', 'línea', 'inteligencia', 'contenido', 'completo', 'fundamental', 'empresas', 'e-sports', 'programas', 'como', 'aquellos', 'interacción', 'herramientas', 'impulsa', 'contexto', 'las', 'alcanzado', 'además', 'sino', 'personalizados', 'democratizando', 'hasta', 'basadas', 'personas', 'permitiendo', 'uno', 'cambiado', 'películas', 'sectores', 'visuales', 'experiencias', 'mercado', 'invita', 'eficaces', 'usuario', 'tecnología', 'trabajos', 'una', 'muchas', 'viaje', 'inmersivos', 'nuevo', 'plataformas', 'están', 'educación', 'calidad', 'medicina', 'no', 'los', 'beneficios', 'otros', 'crecimiento', 'tecnologías', 'desafío', 'pagos', 'permitido', 'dispositivos', 'ofrecer', 'consume', 'planetas', 'desde', 'especialmente', 'reflexionar', 'demanda', 'cómo', 'garantizar', 'diagnostican', 'de', 'transformado', 'consumidores', 'tecnológicos', 'sobre', 'futuro', 'mejores', 'un', 'bienestar', 'nivel', 'cambiando', 'falta', 'donde', 'continúa', 'ciencia', 'populares', 'libros', 'humanidad', 'sigue', 'facilitando', 'llevado', 'sesgos', 'ética', 'evolucionado', 'portátiles', 'salud', 'decisiones', 'en', 'educativa', 'virtuales', 'efectos', 'personal', 'accesibles', 'aprendizaje', 'electrónico', 'acceso', 'aumento', 'mundo', 'su', 'siguen', 'finanzas', 'prometedor', 'adopción', 'avanzadas', 'telemedicina', 'nuevas', 'individual', 'el', 'desafían', 'monitorean', 'algoritmos', 'integral', 'saludables', 'entretiene', 'prioridad', 'solo', 'reto', 'mejorar', 'optimizando', 'aumentada', 'importar', 'avanzando', 'vez', 'artificial', 'transformando', 'con', 'diarias', 'videojuegos', 'promueven', 'médicos', 'estudiantes', 'ubicación', 'habilidades', 'mejorando', 'profesionales', 'principal', 'experiencia', 'a', 'compramos', 'rápidamente', 'avances', 'tiempo', 'adoptando', 'creciente', 'series', 'desarrollo', 'digitales', 'tratamientos', 'cine', 'cuidados', 'presencial', 'tratan', 'para', 'todo', 'escenas', 'embargo', 'rápidos', 'cursos', 'también', 'buscan', 'años', 'enfoque', 'producciones', 'aplicaciones', 'realistas'}\n"
          ]
        }
      ],
      "source": [
        "#Creacion del vocabulario\n",
        "vocab = []\n",
        "for i in range(0,len(corpus_norm)):\n",
        "    vocab.extend(corpus_norm[i])\n",
        "vocab = set(vocab)\n",
        "\n",
        "print(len(vocab))\n",
        "print(vocab)"
      ]
    },
    {
      "cell_type": "code",
      "execution_count": 15,
      "id": "7KmZT6PSfRSo",
      "metadata": {
        "id": "7KmZT6PSfRSo"
      },
      "outputs": [],
      "source": [
        "#Creacion de la matriz termino-documento\n",
        "def tdtransform(text):\n",
        "    doc = []\n",
        "    for word in vocab:\n",
        "        if word in text:\n",
        "           doc.append(1)\n",
        "        else:\n",
        "            doc.append(0)\n",
        "    return doc"
      ]
    },
    {
      "cell_type": "code",
      "execution_count": 16,
      "id": "CgRFcgKRsNgi",
      "metadata": {
        "colab": {
          "base_uri": "https://localhost:8080/"
        },
        "id": "CgRFcgKRsNgi",
        "outputId": "4ee0df40-e5e7-4abb-e5d5-75669b112825"
      },
      "outputs": [
        {
          "output_type": "stream",
          "name": "stdout",
          "text": [
            "8\n",
            "[[1, 0, 1, 0, 0, 0, 1, 0, 0, 0, 1, 0, 1, 0, 0, 0, 0, 1, 0, 1, 0, 0, 0, 0, 0, 1, 0, 0, 0, 0, 0, 0, 0, 0, 0, 1, 0, 0, 0, 0, 0, 1, 1, 1, 0, 0, 0, 0, 1, 0, 0, 0, 0, 0, 0, 0, 0, 0, 0, 0, 1, 0, 0, 1, 1, 0, 0, 1, 0, 0, 0, 0, 1, 1, 0, 0, 0, 0, 0, 0, 1, 0, 0, 0, 0, 0, 1, 0, 0, 0, 0, 0, 0, 0, 0, 0, 0, 0, 0, 0, 0, 1, 0, 0, 0, 1, 0, 0, 0, 0, 0, 1, 0, 0, 0, 0, 0, 0, 0, 0, 0, 0, 0, 1, 0, 1, 0, 0, 0, 0, 0, 0, 0, 0, 0, 0, 0, 0, 1, 0, 0, 0, 0, 1, 0, 0, 1, 1, 0, 0, 1, 1, 1, 0, 0, 0, 0, 0, 1, 0, 0, 0, 0, 0, 0, 1, 0, 0, 0, 0, 0, 0, 1, 0, 0, 1, 0, 0, 0, 0, 0, 0, 1, 0, 0, 0, 1, 0, 1, 1, 0, 0, 0, 0, 0, 0, 0, 0, 0, 0, 1, 0, 0, 0, 1, 0, 0, 1, 0, 0, 0, 0, 0, 0, 0, 0, 0, 1, 0, 0, 1, 0, 0, 0, 0, 0, 0, 0, 0, 0], [1, 0, 0, 0, 1, 1, 1, 0, 0, 0, 0, 0, 0, 1, 0, 0, 0, 0, 0, 0, 0, 0, 0, 0, 1, 1, 0, 0, 1, 0, 1, 0, 1, 1, 0, 0, 0, 0, 0, 0, 0, 0, 0, 0, 0, 1, 0, 0, 0, 0, 1, 1, 0, 0, 0, 0, 0, 0, 1, 0, 1, 0, 0, 0, 0, 1, 0, 1, 0, 0, 0, 1, 0, 1, 1, 0, 0, 0, 0, 0, 0, 0, 0, 0, 0, 0, 0, 0, 0, 1, 0, 0, 0, 0, 0, 0, 0, 0, 1, 1, 0, 0, 0, 0, 0, 0, 1, 0, 0, 1, 1, 0, 0, 0, 0, 0, 0, 0, 0, 0, 0, 0, 0, 0, 0, 1, 0, 0, 0, 0, 0, 0, 1, 0, 1, 0, 0, 1, 0, 0, 0, 0, 0, 0, 0, 0, 0, 0, 0, 0, 0, 0, 1, 0, 1, 0, 0, 0, 0, 0, 0, 0, 1, 0, 0, 0, 0, 0, 0, 0, 0, 0, 1, 0, 0, 0, 0, 0, 0, 0, 0, 0, 0, 0, 1, 0, 0, 0, 1, 0, 1, 0, 1, 0, 0, 0, 0, 0, 0, 1, 0, 0, 1, 0, 0, 0, 0, 0, 0, 0, 1, 0, 0, 0, 0, 0, 0, 0, 1, 0, 0, 0, 0, 1, 0, 0, 0, 0, 0, 0], [0, 0, 0, 1, 0, 0, 0, 0, 0, 0, 0, 0, 0, 1, 0, 0, 0, 0, 0, 0, 1, 0, 0, 0, 0, 1, 0, 0, 0, 0, 0, 1, 0, 0, 0, 0, 0, 1, 0, 0, 0, 0, 1, 0, 1, 0, 0, 0, 0, 0, 0, 0, 0, 0, 0, 1, 0, 1, 0, 1, 0, 0, 0, 0, 1, 0, 0, 0, 0, 0, 0, 0, 0, 1, 0, 0, 0, 0, 0, 1, 0, 0, 0, 0, 1, 0, 0, 0, 1, 0, 0, 0, 1, 1, 0, 0, 0, 0, 0, 0, 1, 1, 0, 0, 0, 0, 1, 0, 0, 0, 0, 0, 1, 0, 0, 1, 0, 0, 1, 0, 0, 1, 0, 0, 0, 1, 0, 1, 0, 0, 0, 1, 0, 0, 0, 0, 0, 0, 0, 0, 0, 0, 0, 0, 1, 0, 0, 0, 0, 0, 0, 0, 1, 0, 0, 0, 0, 0, 0, 1, 0, 0, 0, 0, 1, 0, 0, 0, 0, 0, 0, 0, 1, 0, 0, 0, 0, 0, 0, 0, 0, 0, 0, 1, 0, 0, 0, 0, 0, 0, 1, 1, 0, 0, 0, 0, 0, 0, 0, 0, 0, 0, 0, 1, 0, 1, 0, 0, 1, 0, 0, 1, 0, 0, 0, 0, 0, 1, 0, 0, 0, 1, 0, 0, 0, 0, 0, 0, 0, 0], [0, 1, 0, 0, 0, 0, 0, 0, 1, 0, 0, 0, 1, 1, 0, 1, 0, 0, 0, 0, 0, 0, 0, 0, 1, 1, 0, 0, 0, 0, 0, 0, 0, 0, 0, 0, 0, 0, 0, 1, 1, 0, 0, 0, 0, 0, 0, 0, 1, 0, 0, 0, 0, 0, 0, 0, 0, 0, 0, 0, 0, 0, 1, 0, 0, 0, 1, 0, 1, 1, 1, 0, 0, 1, 0, 0, 0, 0, 0, 0, 0, 0, 0, 1, 0, 0, 0, 0, 0, 0, 0, 0, 0, 0, 1, 0, 0, 0, 0, 0, 0, 0, 1, 1, 0, 0, 1, 1, 0, 0, 0, 0, 0, 1, 0, 0, 0, 0, 0, 1, 0, 0, 0, 0, 0, 1, 0, 0, 0, 0, 0, 0, 1, 0, 0, 0, 1, 0, 0, 0, 0, 0, 0, 0, 0, 0, 0, 0, 0, 0, 0, 0, 0, 1, 0, 0, 0, 0, 0, 0, 0, 0, 0, 1, 1, 0, 0, 0, 0, 0, 0, 0, 0, 0, 0, 0, 0, 0, 0, 0, 0, 1, 0, 0, 0, 1, 0, 0, 0, 0, 1, 0, 0, 0, 0, 1, 1, 0, 1, 0, 0, 1, 1, 0, 0, 0, 1, 0, 0, 0, 0, 1, 0, 0, 0, 1, 0, 1, 0, 0, 0, 0, 0, 0, 0, 0, 0, 0, 0, 0], [1, 0, 0, 0, 0, 0, 0, 1, 0, 1, 0, 0, 0, 1, 0, 0, 1, 0, 1, 0, 0, 0, 0, 0, 0, 1, 1, 0, 0, 0, 0, 0, 1, 0, 0, 0, 0, 0, 1, 0, 0, 0, 1, 0, 0, 1, 1, 0, 0, 0, 0, 0, 0, 0, 1, 0, 0, 0, 0, 0, 0, 1, 0, 0, 0, 0, 0, 0, 0, 0, 0, 0, 0, 1, 0, 1, 0, 0, 1, 0, 0, 0, 0, 0, 0, 1, 0, 1, 0, 0, 0, 0, 0, 0, 0, 0, 0, 0, 0, 0, 1, 0, 0, 0, 0, 0, 1, 0, 0, 0, 1, 0, 0, 0, 0, 0, 1, 0, 0, 0, 0, 0, 1, 0, 0, 1, 1, 0, 0, 0, 0, 0, 0, 0, 0, 0, 0, 0, 0, 0, 0, 0, 0, 0, 0, 0, 0, 0, 1, 0, 0, 0, 0, 0, 0, 1, 0, 0, 0, 0, 1, 0, 0, 0, 0, 0, 0, 0, 1, 0, 0, 0, 1, 1, 0, 0, 0, 0, 0, 0, 0, 0, 0, 0, 0, 0, 0, 1, 0, 0, 1, 0, 0, 0, 0, 0, 0, 0, 0, 0, 0, 0, 1, 0, 0, 0, 0, 0, 0, 1, 0, 0, 0, 1, 0, 0, 0, 1, 0, 1, 0, 0, 0, 0, 0, 1, 0, 1, 0, 1], [1, 0, 0, 0, 0, 0, 1, 0, 0, 0, 0, 0, 1, 0, 1, 0, 0, 0, 0, 0, 0, 1, 1, 0, 0, 1, 0, 0, 0, 0, 0, 0, 1, 0, 1, 0, 1, 0, 0, 0, 0, 0, 1, 0, 0, 0, 0, 1, 0, 1, 0, 0, 1, 0, 0, 0, 0, 0, 0, 0, 1, 0, 0, 0, 0, 0, 0, 1, 0, 0, 0, 0, 0, 1, 0, 0, 1, 0, 0, 0, 0, 0, 0, 1, 0, 0, 0, 0, 0, 0, 1, 0, 0, 0, 0, 0, 0, 1, 0, 0, 0, 0, 0, 0, 0, 1, 1, 0, 1, 0, 0, 0, 0, 0, 0, 0, 0, 1, 0, 0, 1, 0, 0, 0, 0, 1, 0, 0, 1, 1, 1, 0, 0, 0, 0, 0, 0, 0, 0, 1, 1, 0, 1, 0, 0, 0, 0, 0, 0, 0, 0, 0, 1, 0, 0, 0, 0, 0, 0, 0, 0, 0, 0, 0, 0, 0, 0, 0, 0, 0, 0, 0, 1, 0, 0, 0, 0, 0, 1, 0, 1, 0, 0, 0, 0, 0, 0, 0, 1, 0, 0, 0, 0, 0, 0, 0, 0, 0, 0, 0, 0, 0, 1, 0, 0, 1, 1, 0, 0, 0, 0, 0, 0, 0, 0, 0, 0, 0, 0, 0, 0, 0, 0, 1, 0, 0, 0, 0, 0, 0], [1, 0, 0, 0, 0, 0, 0, 0, 0, 0, 0, 0, 0, 1, 0, 0, 0, 0, 0, 0, 0, 0, 0, 1, 0, 1, 0, 1, 0, 0, 0, 0, 0, 0, 0, 0, 0, 0, 0, 0, 0, 0, 1, 0, 0, 0, 0, 0, 0, 0, 0, 0, 1, 1, 0, 0, 0, 0, 0, 0, 0, 0, 0, 0, 0, 0, 0, 0, 0, 0, 0, 0, 0, 0, 0, 0, 0, 0, 0, 1, 0, 1, 0, 0, 0, 0, 0, 0, 0, 0, 0, 0, 0, 0, 0, 1, 1, 0, 0, 0, 0, 0, 0, 1, 0, 0, 0, 0, 0, 1, 0, 0, 0, 0, 0, 0, 0, 0, 1, 0, 0, 1, 0, 0, 0, 1, 0, 0, 0, 0, 0, 0, 1, 1, 0, 0, 0, 0, 0, 0, 0, 1, 0, 0, 0, 1, 0, 0, 0, 0, 0, 0, 1, 0, 0, 0, 1, 0, 1, 0, 0, 1, 0, 1, 0, 0, 0, 1, 0, 0, 1, 1, 1, 0, 0, 0, 1, 1, 0, 1, 0, 0, 1, 0, 0, 0, 0, 0, 0, 0, 0, 0, 0, 1, 0, 0, 0, 1, 0, 0, 0, 0, 1, 0, 0, 0, 0, 0, 0, 0, 1, 0, 0, 0, 0, 0, 0, 1, 0, 0, 0, 0, 1, 0, 1, 0, 1, 0, 1, 0], [1, 0, 0, 0, 0, 0, 0, 0, 0, 0, 0, 1, 1, 0, 0, 0, 0, 0, 0, 0, 1, 0, 0, 0, 0, 1, 0, 0, 0, 1, 0, 0, 1, 0, 0, 0, 0, 0, 0, 0, 0, 0, 1, 0, 0, 0, 0, 0, 0, 0, 0, 0, 0, 1, 0, 0, 1, 0, 0, 0, 0, 0, 0, 0, 0, 0, 0, 0, 0, 0, 0, 0, 0, 1, 0, 0, 0, 1, 0, 1, 0, 0, 1, 0, 0, 0, 0, 0, 0, 0, 0, 1, 0, 1, 0, 0, 0, 0, 0, 0, 0, 1, 0, 0, 1, 0, 1, 0, 0, 0, 0, 0, 0, 0, 1, 1, 0, 0, 1, 0, 0, 0, 0, 0, 1, 1, 0, 0, 0, 0, 1, 0, 0, 0, 0, 1, 0, 0, 0, 0, 0, 0, 0, 0, 0, 0, 0, 0, 0, 1, 1, 0, 1, 0, 0, 0, 0, 1, 0, 0, 0, 0, 0, 0, 0, 0, 1, 0, 0, 1, 0, 0, 1, 0, 1, 0, 0, 0, 0, 0, 0, 0, 0, 0, 0, 0, 0, 0, 0, 0, 1, 0, 0, 0, 1, 0, 0, 0, 0, 0, 0, 0, 1, 0, 0, 1, 1, 0, 0, 0, 0, 0, 1, 0, 1, 0, 1, 0, 0, 0, 0, 0, 0, 0, 0, 0, 0, 0, 0, 0]]\n"
          ]
        }
      ],
      "source": [
        "td_matrix = []\n",
        "for i in range(0,len(corpus_norm)):\n",
        "    doc = tdtransform(text=corpus_norm[i])\n",
        "    td_matrix.append(doc)\n",
        "\n",
        "print(len(td_matrix))\n",
        "print(td_matrix)"
      ]
    },
    {
      "cell_type": "markdown",
      "id": "dhETN1sIaInp",
      "metadata": {
        "id": "dhETN1sIaInp"
      },
      "source": [
        "# 2. Construcción de la matriz TF-IDF"
      ]
    },
    {
      "cell_type": "markdown",
      "source": [
        "La matriz termino-frecuencia es la cantidad de veces que aparece el termino en el documento.\n",
        "\n",
        "Calculo del vector idf cuya formula es **log(N/nt)** donde:\n",
        "\n",
        "**N:** Representa la cantidad de documentos en el corpus\n",
        "\n",
        "**nt:** Representa la cantidad de documentos en los que se encuentra el termino"
      ],
      "metadata": {
        "id": "uI8byjkJLqly"
      },
      "id": "uI8byjkJLqly"
    },
    {
      "cell_type": "code",
      "execution_count": 17,
      "id": "fGIbgYHarWN9",
      "metadata": {
        "id": "fGIbgYHarWN9"
      },
      "outputs": [],
      "source": [
        "#calculo de matriz termino-frecuencia\n",
        "tf_matrix = []\n",
        "\n",
        "for doc in corpus_norm:\n",
        "  tf_vector = []\n",
        "  for word in vocab:\n",
        "    if word in doc:\n",
        "      conteo = doc.count(word)\n",
        "      #print(f'{word} - {conteo}')\n",
        "      tf_vector.append(conteo)\n",
        "    else:\n",
        "      tf_vector.append(0)\n",
        "  tf_matrix.append(tf_vector)"
      ]
    },
    {
      "cell_type": "code",
      "execution_count": 43,
      "id": "jph-h0zxu2ho",
      "metadata": {
        "colab": {
          "base_uri": "https://localhost:8080/"
        },
        "id": "jph-h0zxu2ho",
        "outputId": "d8132937-1b4b-4d90-8f9e-bc7bc502050e"
      },
      "outputs": [
        {
          "output_type": "stream",
          "name": "stdout",
          "text": [
            "8\n",
            "[2, 0, 1, 0, 0, 0, 1, 0, 0, 0, 1, 0, 1, 0, 0, 0, 0, 1, 0, 1, 0, 0, 0, 0, 0, 4, 0, 0, 0, 0, 0, 0, 0, 0, 0, 1, 0, 0, 0, 0, 0, 1, 1, 1, 0, 0, 0, 0, 1, 0, 0, 0, 0, 0, 0, 0, 0, 0, 0, 0, 1, 0, 0, 1, 1, 0, 0, 1, 0, 0, 0, 0, 1, 3, 0, 0, 0, 0, 0, 0, 1, 0, 0, 0, 0, 0, 1, 0, 0, 0, 0, 0, 0, 0, 0, 0, 0, 0, 0, 0, 0, 1, 0, 0, 0, 1, 0, 0, 0, 0, 0, 1, 0, 0, 0, 0, 0, 0, 0, 0, 0, 0, 0, 1, 0, 1, 0, 0, 0, 0, 0, 0, 0, 0, 0, 0, 0, 0, 1, 0, 0, 0, 0, 1, 0, 0, 1, 1, 0, 0, 1, 1, 2, 0, 0, 0, 0, 0, 1, 0, 0, 0, 0, 0, 0, 1, 0, 0, 0, 0, 0, 0, 1, 0, 0, 1, 0, 0, 0, 0, 0, 0, 1, 0, 0, 0, 1, 0, 1, 1, 0, 0, 0, 0, 0, 0, 0, 0, 0, 0, 1, 0, 0, 0, 1, 0, 0, 1, 0, 0, 0, 0, 0, 0, 0, 0, 0, 1, 0, 0, 1, 0, 0, 0, 0, 0, 0, 0, 0, 0]\n",
            "[1, 0, 0, 0, 1, 1, 1, 0, 0, 0, 0, 0, 0, 1, 0, 0, 0, 0, 0, 0, 0, 0, 0, 0, 1, 2, 0, 0, 1, 0, 1, 0, 1, 1, 0, 0, 0, 0, 0, 0, 0, 0, 0, 0, 0, 1, 0, 0, 0, 0, 1, 1, 0, 0, 0, 0, 0, 0, 1, 0, 1, 0, 0, 0, 0, 1, 0, 1, 0, 0, 0, 1, 0, 1, 1, 0, 0, 0, 0, 0, 0, 0, 0, 0, 0, 0, 0, 0, 0, 1, 0, 0, 0, 0, 0, 0, 0, 0, 1, 1, 0, 0, 0, 0, 0, 0, 2, 0, 0, 1, 1, 0, 0, 0, 0, 0, 0, 0, 0, 0, 0, 0, 0, 0, 0, 3, 0, 0, 0, 0, 0, 0, 1, 0, 1, 0, 0, 1, 0, 0, 0, 0, 0, 0, 0, 0, 0, 0, 0, 0, 0, 0, 2, 0, 1, 0, 0, 0, 0, 0, 0, 0, 1, 0, 0, 0, 0, 0, 0, 0, 0, 0, 3, 0, 0, 0, 0, 0, 0, 0, 0, 0, 0, 0, 1, 0, 0, 0, 1, 0, 1, 0, 1, 0, 0, 0, 0, 0, 0, 1, 0, 0, 1, 0, 0, 0, 0, 0, 0, 0, 1, 0, 0, 0, 0, 0, 0, 0, 1, 0, 0, 0, 0, 1, 0, 0, 0, 0, 0, 0]\n",
            "[0, 0, 0, 1, 0, 0, 0, 0, 0, 0, 0, 0, 0, 1, 0, 0, 0, 0, 0, 0, 1, 0, 0, 0, 0, 2, 0, 0, 0, 0, 0, 1, 0, 0, 0, 0, 0, 1, 0, 0, 0, 0, 1, 0, 1, 0, 0, 0, 0, 0, 0, 0, 0, 0, 0, 1, 0, 1, 0, 1, 0, 0, 0, 0, 1, 0, 0, 0, 0, 0, 0, 0, 0, 2, 0, 0, 0, 0, 0, 1, 0, 0, 0, 0, 1, 0, 0, 0, 1, 0, 0, 0, 1, 1, 0, 0, 0, 0, 0, 0, 1, 1, 0, 0, 0, 0, 2, 0, 0, 0, 0, 0, 1, 0, 0, 1, 0, 0, 1, 0, 0, 1, 0, 0, 0, 3, 0, 1, 0, 0, 0, 1, 0, 0, 0, 0, 0, 0, 0, 0, 0, 0, 0, 0, 1, 0, 0, 0, 0, 0, 0, 0, 3, 0, 0, 0, 0, 0, 0, 1, 0, 0, 0, 0, 1, 0, 0, 0, 0, 0, 0, 0, 1, 0, 0, 0, 0, 0, 0, 0, 0, 0, 0, 1, 0, 0, 0, 0, 0, 0, 1, 1, 0, 0, 0, 0, 0, 0, 0, 0, 0, 0, 0, 1, 0, 1, 0, 0, 1, 0, 0, 1, 0, 0, 0, 0, 0, 1, 0, 0, 0, 1, 0, 0, 0, 0, 0, 0, 0, 0]\n",
            "[0, 1, 0, 0, 0, 0, 0, 0, 1, 0, 0, 0, 2, 1, 0, 1, 0, 0, 0, 0, 0, 0, 0, 0, 1, 4, 0, 0, 0, 0, 0, 0, 0, 0, 0, 0, 0, 0, 0, 1, 1, 0, 0, 0, 0, 0, 0, 0, 1, 0, 0, 0, 0, 0, 0, 0, 0, 0, 0, 0, 0, 0, 1, 0, 0, 0, 1, 0, 1, 1, 1, 0, 0, 1, 0, 0, 0, 0, 0, 0, 0, 0, 0, 1, 0, 0, 0, 0, 0, 0, 0, 0, 0, 0, 1, 0, 0, 0, 0, 0, 0, 0, 1, 1, 0, 0, 1, 1, 0, 0, 0, 0, 0, 1, 0, 0, 0, 0, 0, 1, 0, 0, 0, 0, 0, 4, 0, 0, 0, 0, 0, 0, 1, 0, 0, 0, 1, 0, 0, 0, 0, 0, 0, 0, 0, 0, 0, 0, 0, 0, 0, 0, 0, 1, 0, 0, 0, 0, 0, 0, 0, 0, 0, 1, 1, 0, 0, 0, 0, 0, 0, 0, 0, 0, 0, 0, 0, 0, 0, 0, 0, 1, 0, 0, 0, 1, 0, 0, 0, 0, 1, 0, 0, 0, 0, 1, 1, 0, 1, 0, 0, 1, 4, 0, 0, 0, 1, 0, 0, 0, 0, 1, 0, 0, 0, 1, 0, 1, 0, 0, 0, 0, 0, 0, 0, 0, 0, 0, 0, 0]\n",
            "[2, 0, 0, 0, 0, 0, 0, 1, 0, 1, 0, 0, 0, 2, 0, 0, 1, 0, 1, 0, 0, 0, 0, 0, 0, 1, 1, 0, 0, 0, 0, 0, 1, 0, 0, 0, 0, 0, 1, 0, 0, 0, 1, 0, 0, 1, 1, 0, 0, 0, 0, 0, 0, 0, 1, 0, 0, 0, 0, 0, 0, 1, 0, 0, 0, 0, 0, 0, 0, 0, 0, 0, 0, 1, 0, 1, 0, 0, 1, 0, 0, 0, 0, 0, 0, 1, 0, 1, 0, 0, 0, 0, 0, 0, 0, 0, 0, 0, 0, 0, 1, 0, 0, 0, 0, 0, 1, 0, 0, 0, 1, 0, 0, 0, 0, 0, 1, 0, 0, 0, 0, 0, 1, 0, 0, 1, 1, 0, 0, 0, 0, 0, 0, 0, 0, 0, 0, 0, 0, 0, 0, 0, 0, 0, 0, 0, 0, 0, 1, 0, 0, 0, 0, 0, 0, 1, 0, 0, 0, 0, 2, 0, 0, 0, 0, 0, 0, 0, 1, 0, 0, 0, 4, 1, 0, 0, 0, 0, 0, 0, 0, 0, 0, 0, 0, 0, 0, 1, 0, 0, 1, 0, 0, 0, 0, 0, 0, 0, 0, 0, 0, 0, 2, 0, 0, 0, 0, 0, 0, 1, 0, 0, 0, 1, 0, 0, 0, 1, 0, 1, 0, 0, 0, 0, 0, 1, 0, 1, 0, 1]\n",
            "[2, 0, 0, 0, 0, 0, 1, 0, 0, 0, 0, 0, 1, 0, 1, 0, 0, 0, 0, 0, 0, 1, 1, 0, 0, 4, 0, 0, 0, 0, 0, 0, 1, 0, 1, 0, 1, 0, 0, 0, 0, 0, 1, 0, 0, 0, 0, 1, 0, 1, 0, 0, 1, 0, 0, 0, 0, 0, 0, 0, 1, 0, 0, 0, 0, 0, 0, 1, 0, 0, 0, 0, 0, 1, 0, 0, 1, 0, 0, 0, 0, 0, 0, 1, 0, 0, 0, 0, 0, 0, 1, 0, 0, 0, 0, 0, 0, 1, 0, 0, 0, 0, 0, 0, 0, 1, 2, 0, 1, 0, 0, 0, 0, 0, 0, 0, 0, 1, 0, 0, 1, 0, 0, 0, 0, 3, 0, 0, 1, 1, 1, 0, 0, 0, 0, 0, 0, 0, 0, 1, 1, 0, 1, 0, 0, 0, 0, 0, 0, 0, 0, 0, 2, 0, 0, 0, 0, 0, 0, 0, 0, 0, 0, 0, 0, 0, 0, 0, 0, 0, 0, 0, 3, 0, 0, 0, 0, 0, 1, 0, 1, 0, 0, 0, 0, 0, 0, 0, 1, 0, 0, 0, 0, 0, 0, 0, 0, 0, 0, 0, 0, 0, 1, 0, 0, 1, 1, 0, 0, 0, 0, 0, 0, 0, 0, 0, 0, 0, 0, 0, 0, 0, 0, 1, 0, 0, 0, 0, 0, 0]\n",
            "[1, 0, 0, 0, 0, 0, 0, 0, 0, 0, 0, 0, 0, 2, 0, 0, 0, 0, 0, 0, 0, 0, 0, 1, 0, 2, 0, 1, 0, 0, 0, 0, 0, 0, 0, 0, 0, 0, 0, 0, 0, 0, 2, 0, 0, 0, 0, 0, 0, 0, 0, 0, 1, 1, 0, 0, 0, 0, 0, 0, 0, 0, 0, 0, 0, 0, 0, 0, 0, 0, 0, 0, 0, 0, 0, 0, 0, 0, 0, 1, 0, 1, 0, 0, 0, 0, 0, 0, 0, 0, 0, 0, 0, 0, 0, 1, 1, 0, 0, 0, 0, 0, 0, 1, 0, 0, 0, 0, 0, 1, 0, 0, 0, 0, 0, 0, 0, 0, 1, 0, 0, 1, 0, 0, 0, 4, 0, 0, 0, 0, 0, 0, 1, 1, 0, 0, 0, 0, 0, 0, 0, 1, 0, 0, 0, 1, 0, 0, 0, 0, 0, 0, 3, 0, 0, 0, 1, 0, 1, 0, 0, 1, 0, 1, 0, 0, 0, 1, 0, 0, 1, 1, 5, 0, 0, 0, 1, 1, 0, 1, 0, 0, 1, 0, 0, 0, 0, 0, 0, 0, 0, 0, 0, 1, 0, 0, 0, 1, 0, 0, 0, 0, 1, 0, 0, 0, 0, 0, 0, 0, 1, 0, 0, 0, 0, 0, 0, 1, 0, 0, 0, 0, 1, 0, 1, 0, 1, 0, 1, 0]\n",
            "[2, 0, 0, 0, 0, 0, 0, 0, 0, 0, 0, 1, 1, 0, 0, 0, 0, 0, 0, 0, 1, 0, 0, 0, 0, 6, 0, 0, 0, 1, 0, 0, 2, 0, 0, 0, 0, 0, 0, 0, 0, 0, 2, 0, 0, 0, 0, 0, 0, 0, 0, 0, 0, 1, 0, 0, 1, 0, 0, 0, 0, 0, 0, 0, 0, 0, 0, 0, 0, 0, 0, 0, 0, 1, 0, 0, 0, 1, 0, 1, 0, 0, 1, 0, 0, 0, 0, 0, 0, 0, 0, 1, 0, 1, 0, 0, 0, 0, 0, 0, 0, 1, 0, 0, 2, 0, 3, 0, 0, 0, 0, 0, 0, 0, 1, 1, 0, 0, 1, 0, 0, 0, 0, 0, 1, 1, 0, 0, 0, 0, 1, 0, 0, 0, 0, 1, 0, 0, 0, 0, 0, 0, 0, 0, 0, 0, 0, 0, 0, 1, 1, 0, 3, 0, 0, 0, 0, 1, 0, 0, 0, 0, 0, 0, 0, 0, 1, 0, 0, 1, 0, 0, 1, 0, 1, 0, 0, 0, 0, 0, 0, 0, 0, 0, 0, 0, 0, 0, 0, 0, 1, 0, 0, 0, 1, 0, 0, 0, 0, 0, 0, 0, 1, 0, 0, 1, 1, 0, 0, 0, 0, 0, 1, 0, 1, 0, 1, 0, 0, 0, 0, 0, 0, 0, 0, 0, 0, 0, 0, 0]\n"
          ]
        }
      ],
      "source": [
        "print(len(tf_matrix))\n",
        "for i in range(0,len(tf_matrix)):\n",
        "  print(tf_matrix[i])\n"
      ]
    },
    {
      "cell_type": "code",
      "execution_count": 20,
      "id": "7hIXUQ6M2B4i",
      "metadata": {
        "id": "7hIXUQ6M2B4i"
      },
      "outputs": [],
      "source": [
        "#calculo del vector nt\n",
        "nt_vector = []\n",
        "for j in range(0,len(td_matrix[0])):\n",
        "  sum = 0\n",
        "  for i in range(0,len(td_matrix)):\n",
        "    sum += td_matrix[i][j]\n",
        "  nt_vector.append(sum)"
      ]
    },
    {
      "cell_type": "code",
      "execution_count": 21,
      "id": "8teU86b42B6q",
      "metadata": {
        "colab": {
          "base_uri": "https://localhost:8080/"
        },
        "id": "8teU86b42B6q",
        "outputId": "9e766770-e174-441d-e7ff-034f2dd0f959"
      },
      "outputs": [
        {
          "output_type": "stream",
          "name": "stdout",
          "text": [
            "[6, 1, 1, 1, 1, 1, 3, 1, 1, 1, 1, 1, 4, 5, 1, 1, 1, 1, 1, 1, 2, 1, 1, 1, 2, 8, 1, 1, 1, 1, 1, 1, 4, 1, 1, 1, 1, 1, 1, 1, 1, 1, 6, 1, 1, 2, 1, 1, 2, 1, 1, 1, 2, 2, 1, 1, 1, 1, 1, 1, 3, 1, 1, 1, 2, 1, 1, 3, 1, 1, 1, 1, 1, 7, 1, 1, 1, 1, 1, 3, 1, 1, 1, 2, 1, 1, 1, 1, 1, 1, 1, 1, 1, 2, 1, 1, 1, 1, 1, 1, 2, 3, 1, 2, 1, 2, 6, 1, 1, 2, 2, 1, 1, 1, 1, 2, 1, 1, 3, 1, 1, 2, 1, 1, 1, 8, 1, 1, 1, 1, 2, 1, 3, 1, 1, 1, 1, 1, 1, 1, 1, 1, 1, 1, 1, 1, 1, 1, 1, 1, 2, 1, 6, 1, 1, 1, 1, 1, 2, 1, 1, 1, 1, 2, 2, 1, 1, 1, 1, 1, 1, 1, 7, 1, 1, 1, 1, 1, 1, 1, 1, 1, 2, 1, 1, 1, 1, 1, 3, 1, 5, 1, 1, 1, 1, 1, 1, 1, 1, 1, 1, 1, 6, 1, 1, 3, 3, 1, 1, 1, 2, 2, 1, 1, 1, 1, 1, 5, 1, 1, 1, 1, 1, 2, 1, 1, 1, 1, 1, 1]\n"
          ]
        }
      ],
      "source": [
        "print(nt_vector)"
      ]
    },
    {
      "cell_type": "code",
      "execution_count": 22,
      "id": "-BaP6FZp2B-A",
      "metadata": {
        "id": "-BaP6FZp2B-A"
      },
      "outputs": [],
      "source": [
        "#Calculo del vector idf\n",
        "import math\n",
        "\n",
        "idf_vector = []\n",
        "for i in range(0, len(nt_vector)):\n",
        "  idf = round(math.log(len(tf_matrix)/nt_vector[i]),2)\n",
        "  idf_vector.append(idf)\n"
      ]
    },
    {
      "cell_type": "code",
      "execution_count": 23,
      "id": "Bhaa_ZBBBwl_",
      "metadata": {
        "colab": {
          "base_uri": "https://localhost:8080/"
        },
        "id": "Bhaa_ZBBBwl_",
        "outputId": "772af6e9-47f4-42ee-f7ac-7d6bef578f63"
      },
      "outputs": [
        {
          "output_type": "stream",
          "name": "stdout",
          "text": [
            "[0.29, 2.08, 2.08, 2.08, 2.08, 2.08, 0.98, 2.08, 2.08, 2.08, 2.08, 2.08, 0.69, 0.47, 2.08, 2.08, 2.08, 2.08, 2.08, 2.08, 1.39, 2.08, 2.08, 2.08, 1.39, 0.0, 2.08, 2.08, 2.08, 2.08, 2.08, 2.08, 0.69, 2.08, 2.08, 2.08, 2.08, 2.08, 2.08, 2.08, 2.08, 2.08, 0.29, 2.08, 2.08, 1.39, 2.08, 2.08, 1.39, 2.08, 2.08, 2.08, 1.39, 1.39, 2.08, 2.08, 2.08, 2.08, 2.08, 2.08, 0.98, 2.08, 2.08, 2.08, 1.39, 2.08, 2.08, 0.98, 2.08, 2.08, 2.08, 2.08, 2.08, 0.13, 2.08, 2.08, 2.08, 2.08, 2.08, 0.98, 2.08, 2.08, 2.08, 1.39, 2.08, 2.08, 2.08, 2.08, 2.08, 2.08, 2.08, 2.08, 2.08, 1.39, 2.08, 2.08, 2.08, 2.08, 2.08, 2.08, 1.39, 0.98, 2.08, 1.39, 2.08, 1.39, 0.29, 2.08, 2.08, 1.39, 1.39, 2.08, 2.08, 2.08, 2.08, 1.39, 2.08, 2.08, 0.98, 2.08, 2.08, 1.39, 2.08, 2.08, 2.08, 0.0, 2.08, 2.08, 2.08, 2.08, 1.39, 2.08, 0.98, 2.08, 2.08, 2.08, 2.08, 2.08, 2.08, 2.08, 2.08, 2.08, 2.08, 2.08, 2.08, 2.08, 2.08, 2.08, 2.08, 2.08, 1.39, 2.08, 0.29, 2.08, 2.08, 2.08, 2.08, 2.08, 1.39, 2.08, 2.08, 2.08, 2.08, 1.39, 1.39, 2.08, 2.08, 2.08, 2.08, 2.08, 2.08, 2.08, 0.13, 2.08, 2.08, 2.08, 2.08, 2.08, 2.08, 2.08, 2.08, 2.08, 1.39, 2.08, 2.08, 2.08, 2.08, 2.08, 0.98, 2.08, 0.47, 2.08, 2.08, 2.08, 2.08, 2.08, 2.08, 2.08, 2.08, 2.08, 2.08, 2.08, 0.29, 2.08, 2.08, 0.98, 0.98, 2.08, 2.08, 2.08, 1.39, 1.39, 2.08, 2.08, 2.08, 2.08, 2.08, 0.47, 2.08, 2.08, 2.08, 2.08, 2.08, 1.39, 2.08, 2.08, 2.08, 2.08, 2.08, 2.08]\n"
          ]
        }
      ],
      "source": [
        "print(idf_vector)"
      ]
    },
    {
      "cell_type": "code",
      "execution_count": 24,
      "id": "UxUmUWBZzwJX",
      "metadata": {
        "id": "UxUmUWBZzwJX"
      },
      "outputs": [],
      "source": [
        "#Calculo de la matriz td-idf\n",
        "tfidf_matrix = []\n",
        "for i in range(0,len(tf_matrix)):\n",
        "  vector = []\n",
        "  for j in range(0,len(tf_matrix[0])):\n",
        "    vector.append(round(tf_matrix[i][j]*idf_vector[j],2))\n",
        "  tfidf_matrix.append(vector)"
      ]
    },
    {
      "cell_type": "code",
      "execution_count": 25,
      "id": "tsAe6-kCLU_M",
      "metadata": {
        "colab": {
          "base_uri": "https://localhost:8080/"
        },
        "id": "tsAe6-kCLU_M",
        "outputId": "4082cde0-2a16-443c-a03e-ec43e88c24b1"
      },
      "outputs": [
        {
          "output_type": "stream",
          "name": "stdout",
          "text": [
            "[0.58, 0.0, 2.08, 0.0, 0.0, 0.0, 0.98, 0.0, 0.0, 0.0, 2.08, 0.0, 0.69, 0.0, 0.0, 0.0, 0.0, 2.08, 0.0, 2.08, 0.0, 0.0, 0.0, 0.0, 0.0, 0.0, 0.0, 0.0, 0.0, 0.0, 0.0, 0.0, 0.0, 0.0, 0.0, 2.08, 0.0, 0.0, 0.0, 0.0, 0.0, 2.08, 0.29, 2.08, 0.0, 0.0, 0.0, 0.0, 1.39, 0.0, 0.0, 0.0, 0.0, 0.0, 0.0, 0.0, 0.0, 0.0, 0.0, 0.0, 0.98, 0.0, 0.0, 2.08, 1.39, 0.0, 0.0, 0.98, 0.0, 0.0, 0.0, 0.0, 2.08, 0.39, 0.0, 0.0, 0.0, 0.0, 0.0, 0.0, 2.08, 0.0, 0.0, 0.0, 0.0, 0.0, 2.08, 0.0, 0.0, 0.0, 0.0, 0.0, 0.0, 0.0, 0.0, 0.0, 0.0, 0.0, 0.0, 0.0, 0.0, 0.98, 0.0, 0.0, 0.0, 1.39, 0.0, 0.0, 0.0, 0.0, 0.0, 2.08, 0.0, 0.0, 0.0, 0.0, 0.0, 0.0, 0.0, 0.0, 0.0, 0.0, 0.0, 2.08, 0.0, 0.0, 0.0, 0.0, 0.0, 0.0, 0.0, 0.0, 0.0, 0.0, 0.0, 0.0, 0.0, 0.0, 2.08, 0.0, 0.0, 0.0, 0.0, 2.08, 0.0, 0.0, 2.08, 2.08, 0.0, 0.0, 1.39, 2.08, 0.58, 0.0, 0.0, 0.0, 0.0, 0.0, 1.39, 0.0, 0.0, 0.0, 0.0, 0.0, 0.0, 2.08, 0.0, 0.0, 0.0, 0.0, 0.0, 0.0, 0.13, 0.0, 0.0, 2.08, 0.0, 0.0, 0.0, 0.0, 0.0, 0.0, 1.39, 0.0, 0.0, 0.0, 2.08, 0.0, 0.98, 2.08, 0.0, 0.0, 0.0, 0.0, 0.0, 0.0, 0.0, 0.0, 0.0, 0.0, 2.08, 0.0, 0.0, 0.0, 2.08, 0.0, 0.0, 2.08, 0.0, 0.0, 0.0, 0.0, 0.0, 0.0, 0.0, 0.0, 0.0, 0.47, 0.0, 0.0, 2.08, 0.0, 0.0, 0.0, 0.0, 0.0, 0.0, 0.0, 0.0, 0.0]\n",
            "[0.29, 0.0, 0.0, 0.0, 2.08, 2.08, 0.98, 0.0, 0.0, 0.0, 0.0, 0.0, 0.0, 0.47, 0.0, 0.0, 0.0, 0.0, 0.0, 0.0, 0.0, 0.0, 0.0, 0.0, 1.39, 0.0, 0.0, 0.0, 2.08, 0.0, 2.08, 0.0, 0.69, 2.08, 0.0, 0.0, 0.0, 0.0, 0.0, 0.0, 0.0, 0.0, 0.0, 0.0, 0.0, 1.39, 0.0, 0.0, 0.0, 0.0, 2.08, 2.08, 0.0, 0.0, 0.0, 0.0, 0.0, 0.0, 2.08, 0.0, 0.98, 0.0, 0.0, 0.0, 0.0, 2.08, 0.0, 0.98, 0.0, 0.0, 0.0, 2.08, 0.0, 0.13, 2.08, 0.0, 0.0, 0.0, 0.0, 0.0, 0.0, 0.0, 0.0, 0.0, 0.0, 0.0, 0.0, 0.0, 0.0, 2.08, 0.0, 0.0, 0.0, 0.0, 0.0, 0.0, 0.0, 0.0, 2.08, 2.08, 0.0, 0.0, 0.0, 0.0, 0.0, 0.0, 0.58, 0.0, 0.0, 1.39, 1.39, 0.0, 0.0, 0.0, 0.0, 0.0, 0.0, 0.0, 0.0, 0.0, 0.0, 0.0, 0.0, 0.0, 0.0, 0.0, 0.0, 0.0, 0.0, 0.0, 0.0, 0.0, 0.98, 0.0, 2.08, 0.0, 0.0, 2.08, 0.0, 0.0, 0.0, 0.0, 0.0, 0.0, 0.0, 0.0, 0.0, 0.0, 0.0, 0.0, 0.0, 0.0, 0.58, 0.0, 2.08, 0.0, 0.0, 0.0, 0.0, 0.0, 0.0, 0.0, 2.08, 0.0, 0.0, 0.0, 0.0, 0.0, 0.0, 0.0, 0.0, 0.0, 0.39, 0.0, 0.0, 0.0, 0.0, 0.0, 0.0, 0.0, 0.0, 0.0, 0.0, 0.0, 2.08, 0.0, 0.0, 0.0, 0.98, 0.0, 0.47, 0.0, 2.08, 0.0, 0.0, 0.0, 0.0, 0.0, 0.0, 2.08, 0.0, 0.0, 0.29, 0.0, 0.0, 0.0, 0.0, 0.0, 0.0, 0.0, 1.39, 0.0, 0.0, 0.0, 0.0, 0.0, 0.0, 0.0, 2.08, 0.0, 0.0, 0.0, 0.0, 1.39, 0.0, 0.0, 0.0, 0.0, 0.0, 0.0]\n",
            "[0.0, 0.0, 0.0, 2.08, 0.0, 0.0, 0.0, 0.0, 0.0, 0.0, 0.0, 0.0, 0.0, 0.47, 0.0, 0.0, 0.0, 0.0, 0.0, 0.0, 1.39, 0.0, 0.0, 0.0, 0.0, 0.0, 0.0, 0.0, 0.0, 0.0, 0.0, 2.08, 0.0, 0.0, 0.0, 0.0, 0.0, 2.08, 0.0, 0.0, 0.0, 0.0, 0.29, 0.0, 2.08, 0.0, 0.0, 0.0, 0.0, 0.0, 0.0, 0.0, 0.0, 0.0, 0.0, 2.08, 0.0, 2.08, 0.0, 2.08, 0.0, 0.0, 0.0, 0.0, 1.39, 0.0, 0.0, 0.0, 0.0, 0.0, 0.0, 0.0, 0.0, 0.26, 0.0, 0.0, 0.0, 0.0, 0.0, 0.98, 0.0, 0.0, 0.0, 0.0, 2.08, 0.0, 0.0, 0.0, 2.08, 0.0, 0.0, 0.0, 2.08, 1.39, 0.0, 0.0, 0.0, 0.0, 0.0, 0.0, 1.39, 0.98, 0.0, 0.0, 0.0, 0.0, 0.58, 0.0, 0.0, 0.0, 0.0, 0.0, 2.08, 0.0, 0.0, 1.39, 0.0, 0.0, 0.98, 0.0, 0.0, 1.39, 0.0, 0.0, 0.0, 0.0, 0.0, 2.08, 0.0, 0.0, 0.0, 2.08, 0.0, 0.0, 0.0, 0.0, 0.0, 0.0, 0.0, 0.0, 0.0, 0.0, 0.0, 0.0, 2.08, 0.0, 0.0, 0.0, 0.0, 0.0, 0.0, 0.0, 0.87, 0.0, 0.0, 0.0, 0.0, 0.0, 0.0, 2.08, 0.0, 0.0, 0.0, 0.0, 1.39, 0.0, 0.0, 0.0, 0.0, 0.0, 0.0, 0.0, 0.13, 0.0, 0.0, 0.0, 0.0, 0.0, 0.0, 0.0, 0.0, 0.0, 0.0, 2.08, 0.0, 0.0, 0.0, 0.0, 0.0, 0.0, 0.47, 2.08, 0.0, 0.0, 0.0, 0.0, 0.0, 0.0, 0.0, 0.0, 0.0, 0.0, 0.0, 2.08, 0.0, 0.98, 0.0, 0.0, 2.08, 0.0, 0.0, 1.39, 0.0, 0.0, 0.0, 0.0, 0.0, 0.47, 0.0, 0.0, 0.0, 2.08, 0.0, 0.0, 0.0, 0.0, 0.0, 0.0, 0.0, 0.0]\n",
            "[0.0, 2.08, 0.0, 0.0, 0.0, 0.0, 0.0, 0.0, 2.08, 0.0, 0.0, 0.0, 1.38, 0.47, 0.0, 2.08, 0.0, 0.0, 0.0, 0.0, 0.0, 0.0, 0.0, 0.0, 1.39, 0.0, 0.0, 0.0, 0.0, 0.0, 0.0, 0.0, 0.0, 0.0, 0.0, 0.0, 0.0, 0.0, 0.0, 2.08, 2.08, 0.0, 0.0, 0.0, 0.0, 0.0, 0.0, 0.0, 1.39, 0.0, 0.0, 0.0, 0.0, 0.0, 0.0, 0.0, 0.0, 0.0, 0.0, 0.0, 0.0, 0.0, 2.08, 0.0, 0.0, 0.0, 2.08, 0.0, 2.08, 2.08, 2.08, 0.0, 0.0, 0.13, 0.0, 0.0, 0.0, 0.0, 0.0, 0.0, 0.0, 0.0, 0.0, 1.39, 0.0, 0.0, 0.0, 0.0, 0.0, 0.0, 0.0, 0.0, 0.0, 0.0, 2.08, 0.0, 0.0, 0.0, 0.0, 0.0, 0.0, 0.0, 2.08, 1.39, 0.0, 0.0, 0.29, 2.08, 0.0, 0.0, 0.0, 0.0, 0.0, 2.08, 0.0, 0.0, 0.0, 0.0, 0.0, 2.08, 0.0, 0.0, 0.0, 0.0, 0.0, 0.0, 0.0, 0.0, 0.0, 0.0, 0.0, 0.0, 0.98, 0.0, 0.0, 0.0, 2.08, 0.0, 0.0, 0.0, 0.0, 0.0, 0.0, 0.0, 0.0, 0.0, 0.0, 0.0, 0.0, 0.0, 0.0, 0.0, 0.0, 2.08, 0.0, 0.0, 0.0, 0.0, 0.0, 0.0, 0.0, 0.0, 0.0, 1.39, 1.39, 0.0, 0.0, 0.0, 0.0, 0.0, 0.0, 0.0, 0.0, 0.0, 0.0, 0.0, 0.0, 0.0, 0.0, 0.0, 0.0, 2.08, 0.0, 0.0, 0.0, 2.08, 0.0, 0.0, 0.0, 0.0, 0.47, 0.0, 0.0, 0.0, 0.0, 2.08, 2.08, 0.0, 2.08, 0.0, 0.0, 2.08, 1.16, 0.0, 0.0, 0.0, 0.98, 0.0, 0.0, 0.0, 0.0, 1.39, 0.0, 0.0, 0.0, 2.08, 0.0, 0.47, 0.0, 0.0, 0.0, 0.0, 0.0, 0.0, 0.0, 0.0, 0.0, 0.0, 0.0, 0.0]\n",
            "[0.58, 0.0, 0.0, 0.0, 0.0, 0.0, 0.0, 2.08, 0.0, 2.08, 0.0, 0.0, 0.0, 0.94, 0.0, 0.0, 2.08, 0.0, 2.08, 0.0, 0.0, 0.0, 0.0, 0.0, 0.0, 0.0, 2.08, 0.0, 0.0, 0.0, 0.0, 0.0, 0.69, 0.0, 0.0, 0.0, 0.0, 0.0, 2.08, 0.0, 0.0, 0.0, 0.29, 0.0, 0.0, 1.39, 2.08, 0.0, 0.0, 0.0, 0.0, 0.0, 0.0, 0.0, 2.08, 0.0, 0.0, 0.0, 0.0, 0.0, 0.0, 2.08, 0.0, 0.0, 0.0, 0.0, 0.0, 0.0, 0.0, 0.0, 0.0, 0.0, 0.0, 0.13, 0.0, 2.08, 0.0, 0.0, 2.08, 0.0, 0.0, 0.0, 0.0, 0.0, 0.0, 2.08, 0.0, 2.08, 0.0, 0.0, 0.0, 0.0, 0.0, 0.0, 0.0, 0.0, 0.0, 0.0, 0.0, 0.0, 1.39, 0.0, 0.0, 0.0, 0.0, 0.0, 0.29, 0.0, 0.0, 0.0, 1.39, 0.0, 0.0, 0.0, 0.0, 0.0, 2.08, 0.0, 0.0, 0.0, 0.0, 0.0, 2.08, 0.0, 0.0, 0.0, 2.08, 0.0, 0.0, 0.0, 0.0, 0.0, 0.0, 0.0, 0.0, 0.0, 0.0, 0.0, 0.0, 0.0, 0.0, 0.0, 0.0, 0.0, 0.0, 0.0, 0.0, 0.0, 2.08, 0.0, 0.0, 0.0, 0.0, 0.0, 0.0, 2.08, 0.0, 0.0, 0.0, 0.0, 4.16, 0.0, 0.0, 0.0, 0.0, 0.0, 0.0, 0.0, 2.08, 0.0, 0.0, 0.0, 0.52, 2.08, 0.0, 0.0, 0.0, 0.0, 0.0, 0.0, 0.0, 0.0, 0.0, 0.0, 0.0, 0.0, 0.0, 2.08, 0.0, 0.0, 0.47, 0.0, 0.0, 0.0, 0.0, 0.0, 0.0, 0.0, 0.0, 0.0, 0.0, 0.0, 0.58, 0.0, 0.0, 0.0, 0.0, 0.0, 0.0, 2.08, 0.0, 0.0, 0.0, 2.08, 0.0, 0.0, 0.0, 0.47, 0.0, 2.08, 0.0, 0.0, 0.0, 0.0, 0.0, 2.08, 0.0, 2.08, 0.0, 2.08]\n",
            "[0.58, 0.0, 0.0, 0.0, 0.0, 0.0, 0.98, 0.0, 0.0, 0.0, 0.0, 0.0, 0.69, 0.0, 2.08, 0.0, 0.0, 0.0, 0.0, 0.0, 0.0, 2.08, 2.08, 0.0, 0.0, 0.0, 0.0, 0.0, 0.0, 0.0, 0.0, 0.0, 0.69, 0.0, 2.08, 0.0, 2.08, 0.0, 0.0, 0.0, 0.0, 0.0, 0.29, 0.0, 0.0, 0.0, 0.0, 2.08, 0.0, 2.08, 0.0, 0.0, 1.39, 0.0, 0.0, 0.0, 0.0, 0.0, 0.0, 0.0, 0.98, 0.0, 0.0, 0.0, 0.0, 0.0, 0.0, 0.98, 0.0, 0.0, 0.0, 0.0, 0.0, 0.13, 0.0, 0.0, 2.08, 0.0, 0.0, 0.0, 0.0, 0.0, 0.0, 1.39, 0.0, 0.0, 0.0, 0.0, 0.0, 0.0, 2.08, 0.0, 0.0, 0.0, 0.0, 0.0, 0.0, 2.08, 0.0, 0.0, 0.0, 0.0, 0.0, 0.0, 0.0, 1.39, 0.58, 0.0, 2.08, 0.0, 0.0, 0.0, 0.0, 0.0, 0.0, 0.0, 0.0, 2.08, 0.0, 0.0, 2.08, 0.0, 0.0, 0.0, 0.0, 0.0, 0.0, 0.0, 2.08, 2.08, 1.39, 0.0, 0.0, 0.0, 0.0, 0.0, 0.0, 0.0, 0.0, 2.08, 2.08, 0.0, 2.08, 0.0, 0.0, 0.0, 0.0, 0.0, 0.0, 0.0, 0.0, 0.0, 0.58, 0.0, 0.0, 0.0, 0.0, 0.0, 0.0, 0.0, 0.0, 0.0, 0.0, 0.0, 0.0, 0.0, 0.0, 0.0, 0.0, 0.0, 0.0, 0.0, 0.39, 0.0, 0.0, 0.0, 0.0, 0.0, 2.08, 0.0, 2.08, 0.0, 0.0, 0.0, 0.0, 0.0, 0.0, 0.0, 0.98, 0.0, 0.0, 0.0, 0.0, 0.0, 0.0, 0.0, 0.0, 0.0, 0.0, 0.0, 0.0, 0.0, 0.29, 0.0, 0.0, 0.98, 0.98, 0.0, 0.0, 0.0, 0.0, 0.0, 0.0, 0.0, 0.0, 0.0, 0.0, 0.0, 0.0, 0.0, 0.0, 0.0, 0.0, 1.39, 0.0, 0.0, 0.0, 0.0, 0.0, 0.0]\n",
            "[0.29, 0.0, 0.0, 0.0, 0.0, 0.0, 0.0, 0.0, 0.0, 0.0, 0.0, 0.0, 0.0, 0.94, 0.0, 0.0, 0.0, 0.0, 0.0, 0.0, 0.0, 0.0, 0.0, 2.08, 0.0, 0.0, 0.0, 2.08, 0.0, 0.0, 0.0, 0.0, 0.0, 0.0, 0.0, 0.0, 0.0, 0.0, 0.0, 0.0, 0.0, 0.0, 0.58, 0.0, 0.0, 0.0, 0.0, 0.0, 0.0, 0.0, 0.0, 0.0, 1.39, 1.39, 0.0, 0.0, 0.0, 0.0, 0.0, 0.0, 0.0, 0.0, 0.0, 0.0, 0.0, 0.0, 0.0, 0.0, 0.0, 0.0, 0.0, 0.0, 0.0, 0.0, 0.0, 0.0, 0.0, 0.0, 0.0, 0.98, 0.0, 2.08, 0.0, 0.0, 0.0, 0.0, 0.0, 0.0, 0.0, 0.0, 0.0, 0.0, 0.0, 0.0, 0.0, 2.08, 2.08, 0.0, 0.0, 0.0, 0.0, 0.0, 0.0, 1.39, 0.0, 0.0, 0.0, 0.0, 0.0, 1.39, 0.0, 0.0, 0.0, 0.0, 0.0, 0.0, 0.0, 0.0, 0.98, 0.0, 0.0, 1.39, 0.0, 0.0, 0.0, 0.0, 0.0, 0.0, 0.0, 0.0, 0.0, 0.0, 0.98, 2.08, 0.0, 0.0, 0.0, 0.0, 0.0, 0.0, 0.0, 2.08, 0.0, 0.0, 0.0, 2.08, 0.0, 0.0, 0.0, 0.0, 0.0, 0.0, 0.87, 0.0, 0.0, 0.0, 2.08, 0.0, 1.39, 0.0, 0.0, 2.08, 0.0, 1.39, 0.0, 0.0, 0.0, 2.08, 0.0, 0.0, 2.08, 2.08, 0.65, 0.0, 0.0, 0.0, 2.08, 2.08, 0.0, 2.08, 0.0, 0.0, 1.39, 0.0, 0.0, 0.0, 0.0, 0.0, 0.0, 0.0, 0.0, 0.0, 0.0, 2.08, 0.0, 0.0, 0.0, 2.08, 0.0, 0.0, 0.0, 0.0, 0.29, 0.0, 0.0, 0.0, 0.0, 0.0, 0.0, 0.0, 1.39, 0.0, 0.0, 0.0, 0.0, 0.0, 0.0, 0.47, 0.0, 0.0, 0.0, 0.0, 2.08, 0.0, 2.08, 0.0, 2.08, 0.0, 2.08, 0.0]\n",
            "[0.58, 0.0, 0.0, 0.0, 0.0, 0.0, 0.0, 0.0, 0.0, 0.0, 0.0, 2.08, 0.69, 0.0, 0.0, 0.0, 0.0, 0.0, 0.0, 0.0, 1.39, 0.0, 0.0, 0.0, 0.0, 0.0, 0.0, 0.0, 0.0, 2.08, 0.0, 0.0, 1.38, 0.0, 0.0, 0.0, 0.0, 0.0, 0.0, 0.0, 0.0, 0.0, 0.58, 0.0, 0.0, 0.0, 0.0, 0.0, 0.0, 0.0, 0.0, 0.0, 0.0, 1.39, 0.0, 0.0, 2.08, 0.0, 0.0, 0.0, 0.0, 0.0, 0.0, 0.0, 0.0, 0.0, 0.0, 0.0, 0.0, 0.0, 0.0, 0.0, 0.0, 0.13, 0.0, 0.0, 0.0, 2.08, 0.0, 0.98, 0.0, 0.0, 2.08, 0.0, 0.0, 0.0, 0.0, 0.0, 0.0, 0.0, 0.0, 2.08, 0.0, 1.39, 0.0, 0.0, 0.0, 0.0, 0.0, 0.0, 0.0, 0.98, 0.0, 0.0, 4.16, 0.0, 0.87, 0.0, 0.0, 0.0, 0.0, 0.0, 0.0, 0.0, 2.08, 1.39, 0.0, 0.0, 0.98, 0.0, 0.0, 0.0, 0.0, 0.0, 2.08, 0.0, 0.0, 0.0, 0.0, 0.0, 1.39, 0.0, 0.0, 0.0, 0.0, 2.08, 0.0, 0.0, 0.0, 0.0, 0.0, 0.0, 0.0, 0.0, 0.0, 0.0, 0.0, 0.0, 0.0, 2.08, 1.39, 0.0, 0.87, 0.0, 0.0, 0.0, 0.0, 2.08, 0.0, 0.0, 0.0, 0.0, 0.0, 0.0, 0.0, 0.0, 2.08, 0.0, 0.0, 2.08, 0.0, 0.0, 0.13, 0.0, 2.08, 0.0, 0.0, 0.0, 0.0, 0.0, 0.0, 0.0, 0.0, 0.0, 0.0, 0.0, 0.0, 0.0, 0.0, 0.0, 0.47, 0.0, 0.0, 0.0, 2.08, 0.0, 0.0, 0.0, 0.0, 0.0, 0.0, 0.0, 0.29, 0.0, 0.0, 0.98, 0.98, 0.0, 0.0, 0.0, 0.0, 0.0, 2.08, 0.0, 2.08, 0.0, 2.08, 0.0, 0.0, 0.0, 0.0, 0.0, 0.0, 0.0, 0.0, 0.0, 0.0, 0.0, 0.0, 0.0]\n"
          ]
        }
      ],
      "source": [
        "for i in range(0,len(tfidf_matrix)):\n",
        "  print(tfidf_matrix[i])"
      ]
    },
    {
      "cell_type": "markdown",
      "source": [
        "# 3. Procesamiento de las consultas\n",
        "\n",
        "Representar las queries como un vector en el mismo espacio de términos del corpus. Obtener la matriz tf-idf de las queries."
      ],
      "metadata": {
        "id": "3qjWEKBH9JYg"
      },
      "id": "3qjWEKBH9JYg"
    },
    {
      "cell_type": "code",
      "execution_count": 26,
      "id": "lypZ1r_hQKcG",
      "metadata": {
        "id": "lypZ1r_hQKcG"
      },
      "outputs": [],
      "source": [
        "queries = [\"inteligencia artificial en medicina\",\"beneficios de la educación a distancia\",\"realidad aumentada en videojuegos\",\"desarrollo personal y hábitos saludables\",\"futuro del comercio electrónico\",\"tecnologías en cine moderno\",\"competencias de e-sports\",\"diagnóstico con dispositivos portátiles\",\"literatura de ciencia ficción\",\"plataformas de streaming\"]"
      ]
    },
    {
      "cell_type": "code",
      "execution_count": 27,
      "id": "9busb_hnRPxZ",
      "metadata": {
        "id": "9busb_hnRPxZ"
      },
      "outputs": [],
      "source": [
        "#Representar las queries en el mismo espacio de terminos del corpus.\n",
        "qr_matrix = []\n",
        "for i in range(0,len(queries)):\n",
        "    doc = tdtransform(text=queries[i])\n",
        "    qr_matrix .append(doc)"
      ]
    },
    {
      "cell_type": "code",
      "execution_count": 28,
      "id": "plMBDOXyyTAe",
      "metadata": {
        "colab": {
          "base_uri": "https://localhost:8080/"
        },
        "id": "plMBDOXyyTAe",
        "outputId": "869f7f68-f0eb-4458-b177-5f8065d311bf"
      },
      "outputs": [
        {
          "output_type": "stream",
          "name": "stdout",
          "text": [
            "[0, 0, 0, 0, 0, 0, 0, 0, 0, 0, 0, 0, 0, 0, 0, 0, 0, 0, 0, 0, 0, 0, 0, 0, 0, 0, 0, 0, 0, 0, 0, 0, 0, 0, 0, 0, 0, 0, 0, 0, 0, 0, 0, 0, 0, 0, 0, 0, 0, 0, 0, 0, 0, 0, 0, 0, 0, 0, 0, 0, 1, 0, 0, 0, 0, 0, 0, 0, 0, 0, 0, 0, 0, 0, 0, 0, 0, 0, 0, 0, 0, 0, 0, 0, 0, 0, 0, 0, 0, 0, 0, 0, 0, 0, 0, 0, 0, 0, 0, 0, 0, 0, 0, 0, 1, 0, 0, 0, 0, 0, 0, 0, 0, 0, 0, 0, 0, 0, 0, 0, 0, 0, 0, 0, 0, 0, 0, 0, 0, 0, 0, 0, 0, 0, 0, 0, 0, 0, 0, 0, 0, 0, 0, 0, 0, 0, 0, 0, 0, 0, 0, 0, 1, 0, 0, 0, 0, 0, 0, 0, 0, 0, 0, 0, 0, 0, 0, 0, 0, 0, 0, 0, 1, 0, 0, 0, 0, 0, 0, 0, 0, 0, 0, 0, 0, 0, 0, 0, 1, 0, 0, 0, 0, 0, 0, 0, 0, 0, 0, 0, 0, 0, 1, 0, 0, 0, 0, 0, 0, 0, 0, 0, 0, 0, 0, 0, 0, 0, 0, 0, 0, 0, 0, 0, 0, 0, 0, 0, 0, 0]\n",
            "[0, 0, 0, 0, 0, 0, 0, 0, 0, 0, 0, 0, 0, 0, 0, 0, 0, 0, 0, 0, 0, 0, 0, 0, 0, 1, 0, 0, 0, 0, 0, 0, 0, 0, 0, 0, 0, 0, 0, 0, 1, 0, 0, 0, 0, 0, 0, 0, 0, 0, 0, 0, 0, 0, 0, 0, 0, 0, 0, 0, 0, 0, 0, 0, 0, 0, 0, 0, 0, 0, 0, 0, 0, 0, 0, 0, 0, 0, 0, 0, 0, 0, 0, 0, 0, 0, 0, 0, 0, 0, 0, 0, 0, 0, 0, 0, 0, 0, 0, 0, 0, 0, 1, 0, 0, 0, 0, 1, 0, 0, 0, 0, 0, 0, 0, 0, 0, 0, 0, 0, 0, 0, 0, 0, 0, 1, 0, 0, 0, 0, 0, 0, 0, 0, 0, 0, 0, 0, 0, 0, 0, 0, 0, 0, 0, 0, 0, 0, 0, 0, 0, 0, 1, 0, 0, 0, 0, 0, 0, 0, 0, 0, 0, 0, 0, 0, 0, 0, 0, 0, 0, 0, 0, 0, 0, 0, 0, 0, 0, 0, 0, 0, 0, 0, 0, 0, 0, 0, 0, 0, 0, 0, 0, 0, 0, 0, 0, 0, 0, 0, 0, 0, 1, 0, 0, 0, 0, 0, 0, 0, 0, 0, 0, 0, 0, 0, 0, 0, 0, 0, 0, 0, 0, 0, 0, 0, 0, 0, 0, 0]\n",
            "[0, 0, 0, 0, 0, 0, 0, 0, 0, 0, 0, 0, 0, 0, 0, 0, 0, 0, 0, 0, 0, 0, 0, 0, 0, 0, 0, 0, 0, 0, 0, 0, 0, 0, 0, 0, 0, 0, 0, 0, 0, 0, 0, 0, 0, 1, 0, 0, 0, 0, 0, 0, 0, 0, 0, 0, 1, 0, 0, 0, 0, 0, 0, 0, 0, 0, 0, 0, 0, 0, 0, 0, 0, 0, 0, 0, 0, 0, 0, 0, 0, 0, 0, 0, 0, 0, 0, 0, 0, 0, 0, 0, 0, 0, 0, 0, 0, 0, 0, 0, 0, 0, 0, 0, 0, 0, 0, 0, 0, 0, 0, 0, 0, 0, 0, 0, 0, 0, 0, 0, 0, 0, 0, 0, 0, 1, 0, 0, 0, 0, 0, 0, 0, 0, 0, 0, 0, 0, 0, 0, 0, 0, 0, 0, 0, 0, 0, 0, 0, 0, 0, 0, 1, 0, 0, 0, 0, 0, 0, 0, 0, 0, 0, 0, 0, 0, 0, 0, 0, 0, 0, 0, 0, 0, 0, 0, 0, 0, 0, 0, 0, 0, 0, 0, 1, 0, 0, 0, 0, 0, 0, 0, 1, 0, 0, 0, 0, 0, 0, 0, 0, 0, 1, 0, 0, 0, 0, 0, 0, 0, 0, 0, 0, 0, 0, 0, 0, 0, 0, 0, 0, 0, 0, 0, 0, 0, 0, 0, 0, 0]\n",
            "[1, 0, 0, 0, 0, 0, 0, 0, 0, 0, 0, 0, 1, 0, 0, 0, 0, 0, 0, 0, 0, 0, 0, 0, 0, 0, 0, 1, 0, 0, 0, 0, 0, 0, 0, 0, 0, 0, 0, 0, 0, 0, 0, 0, 0, 0, 0, 0, 0, 0, 0, 0, 0, 0, 0, 0, 0, 0, 0, 0, 0, 0, 0, 0, 0, 0, 0, 0, 0, 0, 0, 0, 0, 0, 0, 0, 0, 0, 0, 0, 0, 0, 0, 0, 0, 0, 0, 0, 0, 0, 0, 0, 0, 0, 0, 0, 0, 0, 0, 0, 0, 0, 0, 0, 0, 0, 0, 0, 0, 0, 0, 0, 0, 0, 0, 0, 0, 0, 0, 0, 0, 0, 0, 0, 0, 1, 0, 0, 0, 0, 0, 0, 0, 0, 0, 0, 0, 0, 0, 0, 0, 0, 0, 0, 0, 0, 0, 0, 0, 0, 1, 0, 0, 0, 0, 0, 1, 0, 0, 0, 0, 0, 0, 0, 0, 0, 0, 0, 0, 0, 0, 0, 0, 0, 0, 0, 0, 1, 0, 0, 0, 0, 0, 0, 0, 0, 0, 0, 0, 0, 0, 0, 0, 0, 0, 0, 0, 0, 0, 0, 0, 0, 1, 0, 0, 0, 0, 0, 0, 0, 1, 0, 0, 0, 0, 0, 0, 0, 0, 0, 0, 0, 0, 0, 0, 0, 0, 0, 0, 0]\n",
            "[0, 0, 0, 0, 0, 0, 0, 0, 0, 0, 0, 0, 0, 0, 0, 0, 0, 0, 0, 0, 0, 0, 0, 0, 0, 0, 0, 0, 0, 0, 0, 0, 0, 0, 0, 0, 0, 0, 0, 0, 0, 0, 0, 0, 1, 0, 0, 0, 0, 0, 0, 0, 0, 0, 0, 0, 0, 0, 0, 0, 0, 0, 0, 0, 0, 0, 0, 0, 0, 0, 0, 0, 0, 0, 0, 0, 0, 0, 0, 0, 0, 0, 0, 0, 0, 0, 0, 0, 0, 0, 0, 0, 0, 0, 0, 0, 0, 0, 0, 0, 0, 0, 0, 0, 0, 0, 0, 0, 0, 0, 0, 0, 0, 0, 0, 0, 0, 0, 0, 0, 0, 0, 0, 0, 0, 1, 0, 0, 0, 0, 1, 0, 0, 0, 0, 0, 0, 0, 0, 0, 0, 0, 0, 0, 0, 0, 0, 0, 0, 0, 0, 0, 0, 0, 0, 0, 0, 0, 0, 1, 0, 0, 0, 0, 0, 0, 0, 0, 0, 0, 0, 0, 1, 0, 0, 0, 0, 0, 0, 0, 0, 0, 0, 0, 0, 0, 0, 0, 0, 0, 0, 0, 0, 0, 0, 0, 0, 0, 0, 0, 0, 0, 0, 0, 0, 0, 0, 0, 0, 0, 0, 0, 0, 0, 0, 0, 0, 0, 0, 0, 0, 0, 0, 0, 0, 0, 0, 0, 0, 0]\n",
            "[0, 0, 0, 0, 0, 0, 0, 0, 0, 0, 0, 0, 0, 0, 0, 0, 0, 0, 0, 0, 0, 0, 0, 0, 0, 0, 0, 0, 0, 0, 0, 0, 0, 0, 0, 0, 0, 0, 0, 0, 0, 0, 0, 0, 0, 0, 0, 0, 0, 0, 0, 0, 0, 0, 0, 0, 0, 0, 0, 0, 0, 0, 0, 0, 0, 0, 0, 0, 0, 0, 0, 0, 0, 0, 0, 0, 0, 0, 0, 0, 0, 0, 0, 0, 0, 0, 0, 0, 0, 0, 0, 0, 0, 1, 0, 0, 0, 0, 0, 0, 0, 0, 0, 0, 0, 1, 0, 0, 0, 0, 1, 0, 0, 0, 0, 0, 0, 0, 0, 0, 0, 0, 0, 0, 0, 1, 0, 0, 0, 0, 0, 0, 0, 0, 0, 0, 0, 0, 0, 0, 0, 0, 0, 0, 0, 0, 0, 0, 0, 0, 0, 0, 1, 0, 0, 0, 0, 0, 0, 0, 0, 0, 0, 0, 0, 0, 0, 0, 0, 0, 0, 0, 0, 0, 0, 0, 0, 0, 0, 0, 0, 0, 0, 0, 0, 0, 0, 0, 0, 0, 0, 0, 0, 0, 0, 0, 0, 0, 0, 0, 0, 0, 1, 0, 0, 0, 0, 0, 0, 0, 0, 0, 0, 1, 0, 0, 0, 0, 0, 0, 0, 0, 0, 0, 0, 0, 0, 0, 0, 0]\n",
            "[0, 0, 0, 0, 0, 1, 0, 0, 0, 0, 0, 0, 0, 0, 0, 0, 0, 0, 0, 0, 0, 0, 0, 0, 0, 0, 0, 0, 0, 0, 0, 0, 0, 0, 0, 0, 0, 0, 0, 0, 0, 0, 0, 0, 0, 0, 0, 0, 0, 0, 0, 0, 0, 0, 0, 0, 0, 0, 0, 0, 0, 0, 0, 0, 0, 1, 0, 0, 0, 0, 0, 0, 0, 0, 0, 0, 0, 0, 0, 0, 0, 0, 0, 0, 0, 0, 0, 0, 0, 0, 0, 0, 0, 0, 0, 0, 0, 0, 0, 0, 0, 0, 0, 0, 0, 0, 0, 0, 0, 0, 0, 0, 0, 0, 0, 0, 0, 0, 0, 0, 0, 0, 0, 0, 0, 1, 0, 0, 0, 0, 0, 0, 0, 0, 0, 0, 0, 0, 0, 0, 0, 0, 0, 0, 0, 0, 0, 0, 0, 0, 0, 0, 1, 0, 0, 0, 0, 0, 0, 0, 0, 0, 0, 0, 0, 0, 0, 0, 0, 0, 0, 0, 0, 0, 0, 0, 0, 0, 0, 0, 0, 0, 0, 0, 0, 0, 0, 0, 0, 0, 0, 0, 0, 0, 0, 0, 0, 0, 0, 0, 0, 0, 1, 0, 0, 0, 0, 0, 0, 0, 0, 0, 0, 0, 0, 0, 0, 0, 0, 0, 0, 0, 0, 0, 0, 0, 0, 0, 0, 0]\n",
            "[0, 0, 0, 0, 0, 0, 0, 0, 0, 0, 0, 0, 1, 0, 0, 0, 0, 0, 0, 0, 0, 0, 0, 0, 0, 0, 0, 0, 0, 0, 0, 0, 0, 0, 0, 0, 0, 0, 0, 0, 0, 0, 0, 0, 0, 0, 0, 0, 0, 0, 0, 0, 0, 0, 0, 0, 0, 0, 0, 0, 0, 0, 0, 0, 0, 0, 0, 0, 0, 0, 0, 0, 0, 0, 0, 0, 0, 0, 0, 0, 0, 0, 0, 0, 0, 0, 0, 0, 0, 0, 0, 0, 0, 0, 0, 0, 0, 0, 0, 0, 0, 0, 0, 0, 0, 0, 0, 0, 0, 0, 0, 0, 0, 0, 1, 0, 0, 0, 0, 0, 0, 0, 0, 0, 0, 0, 0, 0, 0, 0, 0, 0, 0, 0, 0, 0, 0, 0, 0, 0, 0, 0, 0, 0, 0, 0, 0, 0, 0, 1, 0, 0, 0, 0, 0, 0, 0, 0, 0, 0, 0, 0, 0, 0, 0, 0, 0, 0, 0, 0, 0, 0, 0, 0, 0, 0, 0, 0, 0, 0, 0, 0, 0, 0, 0, 0, 0, 0, 0, 0, 1, 0, 0, 0, 0, 0, 0, 0, 0, 0, 0, 0, 1, 0, 0, 0, 0, 0, 0, 0, 0, 0, 0, 0, 0, 0, 0, 0, 0, 0, 0, 0, 0, 0, 0, 0, 0, 0, 0, 0]\n",
            "[0, 0, 0, 0, 0, 0, 0, 0, 0, 0, 0, 0, 0, 0, 0, 0, 0, 0, 0, 0, 0, 0, 0, 0, 0, 0, 0, 0, 0, 0, 0, 0, 0, 0, 1, 0, 0, 0, 0, 0, 0, 0, 0, 0, 0, 0, 0, 0, 0, 0, 0, 0, 0, 0, 0, 0, 0, 0, 0, 0, 0, 0, 0, 0, 0, 0, 0, 0, 0, 0, 0, 0, 0, 0, 0, 0, 0, 0, 0, 0, 0, 0, 0, 0, 0, 0, 0, 0, 0, 0, 0, 0, 0, 0, 0, 0, 0, 0, 0, 0, 0, 0, 0, 0, 0, 0, 0, 0, 0, 0, 0, 0, 0, 0, 0, 0, 0, 0, 0, 0, 0, 0, 0, 0, 0, 1, 0, 0, 0, 0, 0, 0, 0, 0, 0, 0, 0, 0, 0, 1, 0, 0, 0, 0, 0, 0, 0, 0, 0, 0, 0, 0, 1, 0, 0, 0, 0, 0, 0, 0, 0, 0, 0, 0, 0, 0, 0, 0, 0, 0, 0, 0, 0, 0, 0, 0, 0, 0, 0, 0, 0, 0, 0, 0, 0, 0, 0, 0, 0, 0, 0, 0, 0, 0, 0, 0, 0, 0, 0, 0, 0, 0, 1, 0, 0, 0, 0, 0, 0, 0, 0, 0, 0, 0, 0, 0, 0, 0, 0, 0, 0, 0, 0, 0, 0, 0, 0, 0, 0, 0]\n",
            "[0, 0, 0, 0, 0, 0, 0, 1, 0, 0, 0, 0, 0, 0, 0, 0, 0, 0, 0, 0, 1, 0, 0, 0, 0, 1, 0, 0, 0, 0, 0, 0, 0, 0, 0, 0, 0, 0, 0, 0, 0, 0, 0, 0, 0, 0, 0, 0, 0, 0, 0, 0, 0, 0, 0, 0, 0, 0, 0, 0, 0, 0, 0, 0, 0, 0, 0, 0, 0, 0, 0, 0, 0, 0, 0, 0, 0, 0, 0, 0, 0, 0, 0, 0, 0, 0, 0, 0, 0, 0, 0, 0, 0, 0, 0, 0, 0, 0, 0, 0, 1, 0, 0, 0, 0, 0, 0, 0, 0, 0, 0, 0, 0, 0, 0, 0, 0, 0, 0, 0, 0, 0, 0, 0, 0, 1, 0, 0, 0, 0, 0, 0, 0, 0, 0, 0, 0, 0, 0, 0, 0, 0, 0, 0, 0, 0, 0, 0, 0, 0, 0, 0, 0, 0, 0, 0, 0, 0, 0, 0, 0, 0, 0, 0, 0, 0, 0, 0, 0, 0, 0, 0, 0, 0, 0, 0, 0, 0, 0, 0, 0, 0, 0, 0, 0, 0, 0, 0, 0, 0, 0, 0, 0, 0, 0, 0, 0, 0, 0, 0, 0, 0, 1, 0, 0, 0, 0, 0, 0, 0, 0, 0, 0, 0, 0, 0, 0, 0, 0, 0, 0, 0, 0, 0, 0, 0, 0, 0, 0, 0]\n"
          ]
        }
      ],
      "source": [
        "for i in range(0,len(qr_matrix)):\n",
        "  print(qr_matrix[i])"
      ]
    },
    {
      "cell_type": "code",
      "execution_count": 29,
      "id": "h_wlo24v2CeZ",
      "metadata": {
        "id": "h_wlo24v2CeZ"
      },
      "outputs": [],
      "source": [
        "#Obtener la matriz tf-idf de las queries\n",
        "\n",
        "qr_tfidf_matrix = []\n",
        "\n",
        "for i in range(0,len(qr_matrix)):\n",
        "  vector = []\n",
        "  for j in range(0,len(qr_matrix[0])):\n",
        "    vector.append(round(qr_matrix[i][j]*idf_vector[j],2))\n",
        "  qr_tfidf_matrix.append(vector)"
      ]
    },
    {
      "cell_type": "code",
      "execution_count": 30,
      "id": "Geja6lR7gDYn",
      "metadata": {
        "colab": {
          "base_uri": "https://localhost:8080/"
        },
        "id": "Geja6lR7gDYn",
        "outputId": "6ecaefb0-79d3-4ae0-9578-60ab9bba1f44"
      },
      "outputs": [
        {
          "output_type": "stream",
          "name": "stdout",
          "text": [
            "[0.0, 0.0, 0.0, 0.0, 0.0, 0.0, 0.0, 0.0, 0.0, 0.0, 0.0, 0.0, 0.0, 0.0, 0.0, 0.0, 0.0, 0.0, 0.0, 0.0, 0.0, 0.0, 0.0, 0.0, 0.0, 0.0, 0.0, 0.0, 0.0, 0.0, 0.0, 0.0, 0.0, 0.0, 0.0, 0.0, 0.0, 0.0, 0.0, 0.0, 0.0, 0.0, 0.0, 0.0, 0.0, 0.0, 0.0, 0.0, 0.0, 0.0, 0.0, 0.0, 0.0, 0.0, 0.0, 0.0, 0.0, 0.0, 0.0, 0.0, 0.98, 0.0, 0.0, 0.0, 0.0, 0.0, 0.0, 0.0, 0.0, 0.0, 0.0, 0.0, 0.0, 0.0, 0.0, 0.0, 0.0, 0.0, 0.0, 0.0, 0.0, 0.0, 0.0, 0.0, 0.0, 0.0, 0.0, 0.0, 0.0, 0.0, 0.0, 0.0, 0.0, 0.0, 0.0, 0.0, 0.0, 0.0, 0.0, 0.0, 0.0, 0.0, 0.0, 0.0, 2.08, 0.0, 0.0, 0.0, 0.0, 0.0, 0.0, 0.0, 0.0, 0.0, 0.0, 0.0, 0.0, 0.0, 0.0, 0.0, 0.0, 0.0, 0.0, 0.0, 0.0, 0.0, 0.0, 0.0, 0.0, 0.0, 0.0, 0.0, 0.0, 0.0, 0.0, 0.0, 0.0, 0.0, 0.0, 0.0, 0.0, 0.0, 0.0, 0.0, 0.0, 0.0, 0.0, 0.0, 0.0, 0.0, 0.0, 0.0, 0.29, 0.0, 0.0, 0.0, 0.0, 0.0, 0.0, 0.0, 0.0, 0.0, 0.0, 0.0, 0.0, 0.0, 0.0, 0.0, 0.0, 0.0, 0.0, 0.0, 0.13, 0.0, 0.0, 0.0, 0.0, 0.0, 0.0, 0.0, 0.0, 0.0, 0.0, 0.0, 0.0, 0.0, 0.0, 0.0, 0.98, 0.0, 0.0, 0.0, 0.0, 0.0, 0.0, 0.0, 0.0, 0.0, 0.0, 0.0, 0.0, 0.0, 0.29, 0.0, 0.0, 0.0, 0.0, 0.0, 0.0, 0.0, 0.0, 0.0, 0.0, 0.0, 0.0, 0.0, 0.0, 0.0, 0.0, 0.0, 0.0, 0.0, 0.0, 0.0, 0.0, 0.0, 0.0, 0.0, 0.0, 0.0]\n",
            "[0.0, 0.0, 0.0, 0.0, 0.0, 0.0, 0.0, 0.0, 0.0, 0.0, 0.0, 0.0, 0.0, 0.0, 0.0, 0.0, 0.0, 0.0, 0.0, 0.0, 0.0, 0.0, 0.0, 0.0, 0.0, 0.0, 0.0, 0.0, 0.0, 0.0, 0.0, 0.0, 0.0, 0.0, 0.0, 0.0, 0.0, 0.0, 0.0, 0.0, 2.08, 0.0, 0.0, 0.0, 0.0, 0.0, 0.0, 0.0, 0.0, 0.0, 0.0, 0.0, 0.0, 0.0, 0.0, 0.0, 0.0, 0.0, 0.0, 0.0, 0.0, 0.0, 0.0, 0.0, 0.0, 0.0, 0.0, 0.0, 0.0, 0.0, 0.0, 0.0, 0.0, 0.0, 0.0, 0.0, 0.0, 0.0, 0.0, 0.0, 0.0, 0.0, 0.0, 0.0, 0.0, 0.0, 0.0, 0.0, 0.0, 0.0, 0.0, 0.0, 0.0, 0.0, 0.0, 0.0, 0.0, 0.0, 0.0, 0.0, 0.0, 0.0, 2.08, 0.0, 0.0, 0.0, 0.0, 2.08, 0.0, 0.0, 0.0, 0.0, 0.0, 0.0, 0.0, 0.0, 0.0, 0.0, 0.0, 0.0, 0.0, 0.0, 0.0, 0.0, 0.0, 0.0, 0.0, 0.0, 0.0, 0.0, 0.0, 0.0, 0.0, 0.0, 0.0, 0.0, 0.0, 0.0, 0.0, 0.0, 0.0, 0.0, 0.0, 0.0, 0.0, 0.0, 0.0, 0.0, 0.0, 0.0, 0.0, 0.0, 0.29, 0.0, 0.0, 0.0, 0.0, 0.0, 0.0, 0.0, 0.0, 0.0, 0.0, 0.0, 0.0, 0.0, 0.0, 0.0, 0.0, 0.0, 0.0, 0.0, 0.0, 0.0, 0.0, 0.0, 0.0, 0.0, 0.0, 0.0, 0.0, 0.0, 0.0, 0.0, 0.0, 0.0, 0.0, 0.0, 0.0, 0.0, 0.0, 0.0, 0.0, 0.0, 0.0, 0.0, 0.0, 0.0, 0.0, 0.0, 0.0, 0.0, 0.29, 0.0, 0.0, 0.0, 0.0, 0.0, 0.0, 0.0, 0.0, 0.0, 0.0, 0.0, 0.0, 0.0, 0.0, 0.0, 0.0, 0.0, 0.0, 0.0, 0.0, 0.0, 0.0, 0.0, 0.0, 0.0, 0.0, 0.0]\n",
            "[0.0, 0.0, 0.0, 0.0, 0.0, 0.0, 0.0, 0.0, 0.0, 0.0, 0.0, 0.0, 0.0, 0.0, 0.0, 0.0, 0.0, 0.0, 0.0, 0.0, 0.0, 0.0, 0.0, 0.0, 0.0, 0.0, 0.0, 0.0, 0.0, 0.0, 0.0, 0.0, 0.0, 0.0, 0.0, 0.0, 0.0, 0.0, 0.0, 0.0, 0.0, 0.0, 0.0, 0.0, 0.0, 1.39, 0.0, 0.0, 0.0, 0.0, 0.0, 0.0, 0.0, 0.0, 0.0, 0.0, 2.08, 0.0, 0.0, 0.0, 0.0, 0.0, 0.0, 0.0, 0.0, 0.0, 0.0, 0.0, 0.0, 0.0, 0.0, 0.0, 0.0, 0.0, 0.0, 0.0, 0.0, 0.0, 0.0, 0.0, 0.0, 0.0, 0.0, 0.0, 0.0, 0.0, 0.0, 0.0, 0.0, 0.0, 0.0, 0.0, 0.0, 0.0, 0.0, 0.0, 0.0, 0.0, 0.0, 0.0, 0.0, 0.0, 0.0, 0.0, 0.0, 0.0, 0.0, 0.0, 0.0, 0.0, 0.0, 0.0, 0.0, 0.0, 0.0, 0.0, 0.0, 0.0, 0.0, 0.0, 0.0, 0.0, 0.0, 0.0, 0.0, 0.0, 0.0, 0.0, 0.0, 0.0, 0.0, 0.0, 0.0, 0.0, 0.0, 0.0, 0.0, 0.0, 0.0, 0.0, 0.0, 0.0, 0.0, 0.0, 0.0, 0.0, 0.0, 0.0, 0.0, 0.0, 0.0, 0.0, 0.29, 0.0, 0.0, 0.0, 0.0, 0.0, 0.0, 0.0, 0.0, 0.0, 0.0, 0.0, 0.0, 0.0, 0.0, 0.0, 0.0, 0.0, 0.0, 0.0, 0.0, 0.0, 0.0, 0.0, 0.0, 0.0, 0.0, 0.0, 0.0, 0.0, 0.0, 0.0, 2.08, 0.0, 0.0, 0.0, 0.0, 0.0, 0.0, 0.0, 2.08, 0.0, 0.0, 0.0, 0.0, 0.0, 0.0, 0.0, 0.0, 0.0, 0.29, 0.0, 0.0, 0.0, 0.0, 0.0, 0.0, 0.0, 0.0, 0.0, 0.0, 0.0, 0.0, 0.0, 0.0, 0.0, 0.0, 0.0, 0.0, 0.0, 0.0, 0.0, 0.0, 0.0, 0.0, 0.0, 0.0, 0.0]\n",
            "[0.29, 0.0, 0.0, 0.0, 0.0, 0.0, 0.0, 0.0, 0.0, 0.0, 0.0, 0.0, 0.69, 0.0, 0.0, 0.0, 0.0, 0.0, 0.0, 0.0, 0.0, 0.0, 0.0, 0.0, 0.0, 0.0, 0.0, 2.08, 0.0, 0.0, 0.0, 0.0, 0.0, 0.0, 0.0, 0.0, 0.0, 0.0, 0.0, 0.0, 0.0, 0.0, 0.0, 0.0, 0.0, 0.0, 0.0, 0.0, 0.0, 0.0, 0.0, 0.0, 0.0, 0.0, 0.0, 0.0, 0.0, 0.0, 0.0, 0.0, 0.0, 0.0, 0.0, 0.0, 0.0, 0.0, 0.0, 0.0, 0.0, 0.0, 0.0, 0.0, 0.0, 0.0, 0.0, 0.0, 0.0, 0.0, 0.0, 0.0, 0.0, 0.0, 0.0, 0.0, 0.0, 0.0, 0.0, 0.0, 0.0, 0.0, 0.0, 0.0, 0.0, 0.0, 0.0, 0.0, 0.0, 0.0, 0.0, 0.0, 0.0, 0.0, 0.0, 0.0, 0.0, 0.0, 0.0, 0.0, 0.0, 0.0, 0.0, 0.0, 0.0, 0.0, 0.0, 0.0, 0.0, 0.0, 0.0, 0.0, 0.0, 0.0, 0.0, 0.0, 0.0, 0.0, 0.0, 0.0, 0.0, 0.0, 0.0, 0.0, 0.0, 0.0, 0.0, 0.0, 0.0, 0.0, 0.0, 0.0, 0.0, 0.0, 0.0, 0.0, 0.0, 0.0, 0.0, 0.0, 0.0, 0.0, 1.39, 0.0, 0.0, 0.0, 0.0, 0.0, 2.08, 0.0, 0.0, 0.0, 0.0, 0.0, 0.0, 0.0, 0.0, 0.0, 0.0, 0.0, 0.0, 0.0, 0.0, 0.0, 0.0, 0.0, 0.0, 0.0, 0.0, 2.08, 0.0, 0.0, 0.0, 0.0, 0.0, 0.0, 0.0, 0.0, 0.0, 0.0, 0.0, 0.0, 0.0, 0.0, 0.0, 0.0, 0.0, 0.0, 0.0, 0.0, 0.0, 0.0, 0.0, 0.0, 0.29, 0.0, 0.0, 0.0, 0.0, 0.0, 0.0, 0.0, 1.39, 0.0, 0.0, 0.0, 0.0, 0.0, 0.0, 0.0, 0.0, 0.0, 0.0, 0.0, 0.0, 0.0, 0.0, 0.0, 0.0, 0.0, 0.0, 0.0]\n",
            "[0.0, 0.0, 0.0, 0.0, 0.0, 0.0, 0.0, 0.0, 0.0, 0.0, 0.0, 0.0, 0.0, 0.0, 0.0, 0.0, 0.0, 0.0, 0.0, 0.0, 0.0, 0.0, 0.0, 0.0, 0.0, 0.0, 0.0, 0.0, 0.0, 0.0, 0.0, 0.0, 0.0, 0.0, 0.0, 0.0, 0.0, 0.0, 0.0, 0.0, 0.0, 0.0, 0.0, 0.0, 2.08, 0.0, 0.0, 0.0, 0.0, 0.0, 0.0, 0.0, 0.0, 0.0, 0.0, 0.0, 0.0, 0.0, 0.0, 0.0, 0.0, 0.0, 0.0, 0.0, 0.0, 0.0, 0.0, 0.0, 0.0, 0.0, 0.0, 0.0, 0.0, 0.0, 0.0, 0.0, 0.0, 0.0, 0.0, 0.0, 0.0, 0.0, 0.0, 0.0, 0.0, 0.0, 0.0, 0.0, 0.0, 0.0, 0.0, 0.0, 0.0, 0.0, 0.0, 0.0, 0.0, 0.0, 0.0, 0.0, 0.0, 0.0, 0.0, 0.0, 0.0, 0.0, 0.0, 0.0, 0.0, 0.0, 0.0, 0.0, 0.0, 0.0, 0.0, 0.0, 0.0, 0.0, 0.0, 0.0, 0.0, 0.0, 0.0, 0.0, 0.0, 0.0, 0.0, 0.0, 0.0, 0.0, 1.39, 0.0, 0.0, 0.0, 0.0, 0.0, 0.0, 0.0, 0.0, 0.0, 0.0, 0.0, 0.0, 0.0, 0.0, 0.0, 0.0, 0.0, 0.0, 0.0, 0.0, 0.0, 0.0, 0.0, 0.0, 0.0, 0.0, 0.0, 0.0, 2.08, 0.0, 0.0, 0.0, 0.0, 0.0, 0.0, 0.0, 0.0, 0.0, 0.0, 0.0, 0.0, 0.13, 0.0, 0.0, 0.0, 0.0, 0.0, 0.0, 0.0, 0.0, 0.0, 0.0, 0.0, 0.0, 0.0, 0.0, 0.0, 0.0, 0.0, 0.0, 0.0, 0.0, 0.0, 0.0, 0.0, 0.0, 0.0, 0.0, 0.0, 0.0, 0.0, 0.0, 0.0, 0.0, 0.0, 0.0, 0.0, 0.0, 0.0, 0.0, 0.0, 0.0, 0.0, 0.0, 0.0, 0.0, 0.0, 0.0, 0.0, 0.0, 0.0, 0.0, 0.0, 0.0, 0.0, 0.0, 0.0, 0.0, 0.0]\n",
            "[0.0, 0.0, 0.0, 0.0, 0.0, 0.0, 0.0, 0.0, 0.0, 0.0, 0.0, 0.0, 0.0, 0.0, 0.0, 0.0, 0.0, 0.0, 0.0, 0.0, 0.0, 0.0, 0.0, 0.0, 0.0, 0.0, 0.0, 0.0, 0.0, 0.0, 0.0, 0.0, 0.0, 0.0, 0.0, 0.0, 0.0, 0.0, 0.0, 0.0, 0.0, 0.0, 0.0, 0.0, 0.0, 0.0, 0.0, 0.0, 0.0, 0.0, 0.0, 0.0, 0.0, 0.0, 0.0, 0.0, 0.0, 0.0, 0.0, 0.0, 0.0, 0.0, 0.0, 0.0, 0.0, 0.0, 0.0, 0.0, 0.0, 0.0, 0.0, 0.0, 0.0, 0.0, 0.0, 0.0, 0.0, 0.0, 0.0, 0.0, 0.0, 0.0, 0.0, 0.0, 0.0, 0.0, 0.0, 0.0, 0.0, 0.0, 0.0, 0.0, 0.0, 1.39, 0.0, 0.0, 0.0, 0.0, 0.0, 0.0, 0.0, 0.0, 0.0, 0.0, 0.0, 1.39, 0.0, 0.0, 0.0, 0.0, 1.39, 0.0, 0.0, 0.0, 0.0, 0.0, 0.0, 0.0, 0.0, 0.0, 0.0, 0.0, 0.0, 0.0, 0.0, 0.0, 0.0, 0.0, 0.0, 0.0, 0.0, 0.0, 0.0, 0.0, 0.0, 0.0, 0.0, 0.0, 0.0, 0.0, 0.0, 0.0, 0.0, 0.0, 0.0, 0.0, 0.0, 0.0, 0.0, 0.0, 0.0, 0.0, 0.29, 0.0, 0.0, 0.0, 0.0, 0.0, 0.0, 0.0, 0.0, 0.0, 0.0, 0.0, 0.0, 0.0, 0.0, 0.0, 0.0, 0.0, 0.0, 0.0, 0.0, 0.0, 0.0, 0.0, 0.0, 0.0, 0.0, 0.0, 0.0, 0.0, 0.0, 0.0, 0.0, 0.0, 0.0, 0.0, 0.0, 0.0, 0.0, 0.0, 0.0, 0.0, 0.0, 0.0, 0.0, 0.0, 0.0, 0.0, 0.0, 0.0, 0.29, 0.0, 0.0, 0.0, 0.0, 0.0, 0.0, 0.0, 0.0, 0.0, 0.0, 2.08, 0.0, 0.0, 0.0, 0.0, 0.0, 0.0, 0.0, 0.0, 0.0, 0.0, 0.0, 0.0, 0.0, 0.0, 0.0, 0.0]\n",
            "[0.0, 0.0, 0.0, 0.0, 0.0, 2.08, 0.0, 0.0, 0.0, 0.0, 0.0, 0.0, 0.0, 0.0, 0.0, 0.0, 0.0, 0.0, 0.0, 0.0, 0.0, 0.0, 0.0, 0.0, 0.0, 0.0, 0.0, 0.0, 0.0, 0.0, 0.0, 0.0, 0.0, 0.0, 0.0, 0.0, 0.0, 0.0, 0.0, 0.0, 0.0, 0.0, 0.0, 0.0, 0.0, 0.0, 0.0, 0.0, 0.0, 0.0, 0.0, 0.0, 0.0, 0.0, 0.0, 0.0, 0.0, 0.0, 0.0, 0.0, 0.0, 0.0, 0.0, 0.0, 0.0, 2.08, 0.0, 0.0, 0.0, 0.0, 0.0, 0.0, 0.0, 0.0, 0.0, 0.0, 0.0, 0.0, 0.0, 0.0, 0.0, 0.0, 0.0, 0.0, 0.0, 0.0, 0.0, 0.0, 0.0, 0.0, 0.0, 0.0, 0.0, 0.0, 0.0, 0.0, 0.0, 0.0, 0.0, 0.0, 0.0, 0.0, 0.0, 0.0, 0.0, 0.0, 0.0, 0.0, 0.0, 0.0, 0.0, 0.0, 0.0, 0.0, 0.0, 0.0, 0.0, 0.0, 0.0, 0.0, 0.0, 0.0, 0.0, 0.0, 0.0, 0.0, 0.0, 0.0, 0.0, 0.0, 0.0, 0.0, 0.0, 0.0, 0.0, 0.0, 0.0, 0.0, 0.0, 0.0, 0.0, 0.0, 0.0, 0.0, 0.0, 0.0, 0.0, 0.0, 0.0, 0.0, 0.0, 0.0, 0.29, 0.0, 0.0, 0.0, 0.0, 0.0, 0.0, 0.0, 0.0, 0.0, 0.0, 0.0, 0.0, 0.0, 0.0, 0.0, 0.0, 0.0, 0.0, 0.0, 0.0, 0.0, 0.0, 0.0, 0.0, 0.0, 0.0, 0.0, 0.0, 0.0, 0.0, 0.0, 0.0, 0.0, 0.0, 0.0, 0.0, 0.0, 0.0, 0.0, 0.0, 0.0, 0.0, 0.0, 0.0, 0.0, 0.0, 0.0, 0.0, 0.0, 0.29, 0.0, 0.0, 0.0, 0.0, 0.0, 0.0, 0.0, 0.0, 0.0, 0.0, 0.0, 0.0, 0.0, 0.0, 0.0, 0.0, 0.0, 0.0, 0.0, 0.0, 0.0, 0.0, 0.0, 0.0, 0.0, 0.0, 0.0]\n",
            "[0.0, 0.0, 0.0, 0.0, 0.0, 0.0, 0.0, 0.0, 0.0, 0.0, 0.0, 0.0, 0.69, 0.0, 0.0, 0.0, 0.0, 0.0, 0.0, 0.0, 0.0, 0.0, 0.0, 0.0, 0.0, 0.0, 0.0, 0.0, 0.0, 0.0, 0.0, 0.0, 0.0, 0.0, 0.0, 0.0, 0.0, 0.0, 0.0, 0.0, 0.0, 0.0, 0.0, 0.0, 0.0, 0.0, 0.0, 0.0, 0.0, 0.0, 0.0, 0.0, 0.0, 0.0, 0.0, 0.0, 0.0, 0.0, 0.0, 0.0, 0.0, 0.0, 0.0, 0.0, 0.0, 0.0, 0.0, 0.0, 0.0, 0.0, 0.0, 0.0, 0.0, 0.0, 0.0, 0.0, 0.0, 0.0, 0.0, 0.0, 0.0, 0.0, 0.0, 0.0, 0.0, 0.0, 0.0, 0.0, 0.0, 0.0, 0.0, 0.0, 0.0, 0.0, 0.0, 0.0, 0.0, 0.0, 0.0, 0.0, 0.0, 0.0, 0.0, 0.0, 0.0, 0.0, 0.0, 0.0, 0.0, 0.0, 0.0, 0.0, 0.0, 0.0, 2.08, 0.0, 0.0, 0.0, 0.0, 0.0, 0.0, 0.0, 0.0, 0.0, 0.0, 0.0, 0.0, 0.0, 0.0, 0.0, 0.0, 0.0, 0.0, 0.0, 0.0, 0.0, 0.0, 0.0, 0.0, 0.0, 0.0, 0.0, 0.0, 0.0, 0.0, 0.0, 0.0, 0.0, 0.0, 2.08, 0.0, 0.0, 0.0, 0.0, 0.0, 0.0, 0.0, 0.0, 0.0, 0.0, 0.0, 0.0, 0.0, 0.0, 0.0, 0.0, 0.0, 0.0, 0.0, 0.0, 0.0, 0.0, 0.0, 0.0, 0.0, 0.0, 0.0, 0.0, 0.0, 0.0, 0.0, 0.0, 0.0, 0.0, 0.0, 0.0, 0.0, 0.0, 0.0, 0.0, 0.47, 0.0, 0.0, 0.0, 0.0, 0.0, 0.0, 0.0, 0.0, 0.0, 0.0, 0.0, 0.29, 0.0, 0.0, 0.0, 0.0, 0.0, 0.0, 0.0, 0.0, 0.0, 0.0, 0.0, 0.0, 0.0, 0.0, 0.0, 0.0, 0.0, 0.0, 0.0, 0.0, 0.0, 0.0, 0.0, 0.0, 0.0, 0.0, 0.0]\n",
            "[0.0, 0.0, 0.0, 0.0, 0.0, 0.0, 0.0, 0.0, 0.0, 0.0, 0.0, 0.0, 0.0, 0.0, 0.0, 0.0, 0.0, 0.0, 0.0, 0.0, 0.0, 0.0, 0.0, 0.0, 0.0, 0.0, 0.0, 0.0, 0.0, 0.0, 0.0, 0.0, 0.0, 0.0, 2.08, 0.0, 0.0, 0.0, 0.0, 0.0, 0.0, 0.0, 0.0, 0.0, 0.0, 0.0, 0.0, 0.0, 0.0, 0.0, 0.0, 0.0, 0.0, 0.0, 0.0, 0.0, 0.0, 0.0, 0.0, 0.0, 0.0, 0.0, 0.0, 0.0, 0.0, 0.0, 0.0, 0.0, 0.0, 0.0, 0.0, 0.0, 0.0, 0.0, 0.0, 0.0, 0.0, 0.0, 0.0, 0.0, 0.0, 0.0, 0.0, 0.0, 0.0, 0.0, 0.0, 0.0, 0.0, 0.0, 0.0, 0.0, 0.0, 0.0, 0.0, 0.0, 0.0, 0.0, 0.0, 0.0, 0.0, 0.0, 0.0, 0.0, 0.0, 0.0, 0.0, 0.0, 0.0, 0.0, 0.0, 0.0, 0.0, 0.0, 0.0, 0.0, 0.0, 0.0, 0.0, 0.0, 0.0, 0.0, 0.0, 0.0, 0.0, 0.0, 0.0, 0.0, 0.0, 0.0, 0.0, 0.0, 0.0, 0.0, 0.0, 0.0, 0.0, 0.0, 0.0, 2.08, 0.0, 0.0, 0.0, 0.0, 0.0, 0.0, 0.0, 0.0, 0.0, 0.0, 0.0, 0.0, 0.29, 0.0, 0.0, 0.0, 0.0, 0.0, 0.0, 0.0, 0.0, 0.0, 0.0, 0.0, 0.0, 0.0, 0.0, 0.0, 0.0, 0.0, 0.0, 0.0, 0.0, 0.0, 0.0, 0.0, 0.0, 0.0, 0.0, 0.0, 0.0, 0.0, 0.0, 0.0, 0.0, 0.0, 0.0, 0.0, 0.0, 0.0, 0.0, 0.0, 0.0, 0.0, 0.0, 0.0, 0.0, 0.0, 0.0, 0.0, 0.0, 0.0, 0.29, 0.0, 0.0, 0.0, 0.0, 0.0, 0.0, 0.0, 0.0, 0.0, 0.0, 0.0, 0.0, 0.0, 0.0, 0.0, 0.0, 0.0, 0.0, 0.0, 0.0, 0.0, 0.0, 0.0, 0.0, 0.0, 0.0, 0.0]\n",
            "[0.0, 0.0, 0.0, 0.0, 0.0, 0.0, 0.0, 2.08, 0.0, 0.0, 0.0, 0.0, 0.0, 0.0, 0.0, 0.0, 0.0, 0.0, 0.0, 0.0, 1.39, 0.0, 0.0, 0.0, 0.0, 0.0, 0.0, 0.0, 0.0, 0.0, 0.0, 0.0, 0.0, 0.0, 0.0, 0.0, 0.0, 0.0, 0.0, 0.0, 0.0, 0.0, 0.0, 0.0, 0.0, 0.0, 0.0, 0.0, 0.0, 0.0, 0.0, 0.0, 0.0, 0.0, 0.0, 0.0, 0.0, 0.0, 0.0, 0.0, 0.0, 0.0, 0.0, 0.0, 0.0, 0.0, 0.0, 0.0, 0.0, 0.0, 0.0, 0.0, 0.0, 0.0, 0.0, 0.0, 0.0, 0.0, 0.0, 0.0, 0.0, 0.0, 0.0, 0.0, 0.0, 0.0, 0.0, 0.0, 0.0, 0.0, 0.0, 0.0, 0.0, 0.0, 0.0, 0.0, 0.0, 0.0, 0.0, 0.0, 1.39, 0.0, 0.0, 0.0, 0.0, 0.0, 0.0, 0.0, 0.0, 0.0, 0.0, 0.0, 0.0, 0.0, 0.0, 0.0, 0.0, 0.0, 0.0, 0.0, 0.0, 0.0, 0.0, 0.0, 0.0, 0.0, 0.0, 0.0, 0.0, 0.0, 0.0, 0.0, 0.0, 0.0, 0.0, 0.0, 0.0, 0.0, 0.0, 0.0, 0.0, 0.0, 0.0, 0.0, 0.0, 0.0, 0.0, 0.0, 0.0, 0.0, 0.0, 0.0, 0.0, 0.0, 0.0, 0.0, 0.0, 0.0, 0.0, 0.0, 0.0, 0.0, 0.0, 0.0, 0.0, 0.0, 0.0, 0.0, 0.0, 0.0, 0.0, 0.0, 0.0, 0.0, 0.0, 0.0, 0.0, 0.0, 0.0, 0.0, 0.0, 0.0, 0.0, 0.0, 0.0, 0.0, 0.0, 0.0, 0.0, 0.0, 0.0, 0.0, 0.0, 0.0, 0.0, 0.0, 0.0, 0.0, 0.0, 0.0, 0.0, 0.0, 0.29, 0.0, 0.0, 0.0, 0.0, 0.0, 0.0, 0.0, 0.0, 0.0, 0.0, 0.0, 0.0, 0.0, 0.0, 0.0, 0.0, 0.0, 0.0, 0.0, 0.0, 0.0, 0.0, 0.0, 0.0, 0.0, 0.0, 0.0]\n"
          ]
        }
      ],
      "source": [
        "for i in range(0,len(qr_tfidf_matrix)):\n",
        "  print(qr_tfidf_matrix[i])"
      ]
    },
    {
      "cell_type": "markdown",
      "source": [
        "\n",
        "# 4. Cálculo de similitudes\n",
        "La similitud coseno se calcula con la siguiente formula:\n",
        "\n",
        "![formulacoseno.png](data:image/png;base64,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)\n",
        "\n",
        "Tambien se representa de la siguiente forma:\n",
        "\n",
        "![formulacoseno1.png](data:image/png;base64,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)"
      ],
      "metadata": {
        "id": "_qq5MVW49VWc"
      },
      "id": "_qq5MVW49VWc"
    },
    {
      "cell_type": "code",
      "execution_count": 31,
      "id": "mAiMECsugNPA",
      "metadata": {
        "id": "mAiMECsugNPA"
      },
      "outputs": [],
      "source": [
        "from math import sqrt\n",
        "def similitudCoseno(v1, v2):\n",
        "    similitud = []\n",
        "\n",
        "    for i in range(0, len(v1)):\n",
        "        producto = 0\n",
        "        sum1 = 0\n",
        "        sum2 = 0\n",
        "        for j in range(0, len(v1[0])):\n",
        "            producto += v1[i][j] *v2[j]\n",
        "            sum1 += v1[i][j] ** 2\n",
        "            sum2 +=  v2[j] ** 2\n",
        "\n",
        "        sim = producto/(sqrt(sum1) * sqrt(sum2))\n",
        "        similitud.append(round(sim,3))\n",
        "    return similitud"
      ]
    },
    {
      "cell_type": "code",
      "execution_count": 44,
      "id": "eTgPsjX648zJ",
      "metadata": {
        "id": "eTgPsjX648zJ"
      },
      "outputs": [],
      "source": [
        "similitudMatrix = []\n",
        "for i in range(0,len(qr_tfidf_matrix)):\n",
        "  similitudMatrix.append(similitudCoseno(tfidf_matrix, qr_tfidf_matrix[i]))"
      ]
    },
    {
      "cell_type": "code",
      "source": [
        "for i in range(0,len(similitudMatrix)):\n",
        "  print(similitudMatrix[i])"
      ],
      "metadata": {
        "colab": {
          "base_uri": "https://localhost:8080/"
        },
        "id": "Wmit6WpN_lit",
        "outputId": "bc219040-0c6c-40bb-8696-42fda2b7a295"
      },
      "id": "Wmit6WpN_lit",
      "execution_count": 33,
      "outputs": [
        {
          "output_type": "stream",
          "name": "stdout",
          "text": [
            "[0.073, 0.082, 0.01, 0.012, 0.008, 0.086, 0.015, 0.329]\n",
            "[0.004, 0.007, 0.007, 0.331, 0.004, 0.007, 0.009, 0.009]\n",
            "[0.004, 0.262, 0.006, 0.008, 0.045, 0.006, 0.008, 0.111]\n",
            "[0.054, 0.047, 0.0, 0.028, 0.007, 0.017, 0.332, 0.059]\n",
            "[0.0, 0.001, 0.257, 0.0, 0.002, 0.06, 0.002, 0.055]\n",
            "[0.057, 0.064, 0.066, 0.009, 0.168, 0.067, 0.01, 0.066]\n",
            "[0.005, 0.281, 0.008, 0.01, 0.005, 0.008, 0.01, 0.01]\n",
            "[0.014, 0.009, 0.007, 0.044, 0.011, 0.018, 0.003, 0.285]\n",
            "[0.005, 0.008, 0.008, 0.01, 0.005, 0.294, 0.01, 0.01]\n",
            "[0.0, 0.003, 0.129, 0.011, 0.187, 0.003, 0.003, 0.065]\n"
          ]
        }
      ]
    },
    {
      "cell_type": "markdown",
      "source": [
        "# 5. Ranking de documentos\n",
        "Se debe ordenar las queries por orden de relevancia"
      ],
      "metadata": {
        "id": "SH6EWpRm9_L1"
      },
      "id": "SH6EWpRm9_L1"
    },
    {
      "cell_type": "code",
      "execution_count": 34,
      "id": "6LYip130I2aM",
      "metadata": {
        "colab": {
          "base_uri": "https://localhost:8080/"
        },
        "id": "6LYip130I2aM",
        "outputId": "2fd057fd-0033-4932-975b-f979a9d86def"
      },
      "outputs": [
        {
          "output_type": "stream",
          "name": "stdout",
          "text": [
            "[{7: 0.329, 5: 0.086, 1: 0.082, 0: 0.073, 6: 0.015, 3: 0.012, 2: 0.01, 4: 0.008}, {3: 0.331, 6: 0.009, 7: 0.009, 1: 0.007, 2: 0.007, 5: 0.007, 0: 0.004, 4: 0.004}, {1: 0.262, 7: 0.111, 4: 0.045, 3: 0.008, 6: 0.008, 2: 0.006, 5: 0.006, 0: 0.004}, {6: 0.332, 7: 0.059, 0: 0.054, 1: 0.047, 3: 0.028, 5: 0.017, 4: 0.007, 2: 0.0}, {2: 0.257, 5: 0.06, 7: 0.055, 4: 0.002, 6: 0.002, 1: 0.001, 0: 0.0, 3: 0.0}, {4: 0.168, 5: 0.067, 2: 0.066, 7: 0.066, 1: 0.064, 0: 0.057, 6: 0.01, 3: 0.009}, {1: 0.281, 3: 0.01, 6: 0.01, 7: 0.01, 2: 0.008, 5: 0.008, 0: 0.005, 4: 0.005}, {7: 0.285, 3: 0.044, 5: 0.018, 0: 0.014, 4: 0.011, 1: 0.009, 2: 0.007, 6: 0.003}, {5: 0.294, 3: 0.01, 6: 0.01, 7: 0.01, 1: 0.008, 2: 0.008, 0: 0.005, 4: 0.005}, {4: 0.187, 2: 0.129, 7: 0.065, 3: 0.011, 1: 0.003, 5: 0.003, 6: 0.003, 0: 0.0}]\n",
            "10\n"
          ]
        }
      ],
      "source": [
        "ranking = []\n",
        "\n",
        "for i in range(0,len(similitudMatrix)):\n",
        "  indices = {}\n",
        "  for j in range(0,len(similitudMatrix[i])):\n",
        "    indiceqr = j\n",
        "    indices[indiceqr] = similitudMatrix[i][j]\n",
        "  ranking.append(dict(sorted(indices.items(), key=lambda item: item[1], reverse=True)))\n",
        "\n",
        "print(ranking)\n",
        "\n",
        "print(len(ranking))"
      ]
    },
    {
      "cell_type": "code",
      "execution_count": 42,
      "id": "d62b06c0",
      "metadata": {
        "colab": {
          "base_uri": "https://localhost:8080/"
        },
        "id": "d62b06c0",
        "outputId": "3543c514-1280-4a74-96c3-8de883231ea5"
      },
      "outputs": [
        {
          "output_type": "stream",
          "name": "stdout",
          "text": [
            "Query 1: inteligencia artificial en medicina\n",
            "\n",
            "Similitud: 0.329 | Documento 8: Los avances en la medicina están cambiando la forma en que se diagnostican y tratan las enfermedades. Desde la telemedicina hasta los dispositivos portátiles que monitorean la salud en tiempo real, la tecnología está permitiendo a los médicos ofrecer cuidados más personalizados. El futuro de la medicina es prometedor, con tratamientos más accesibles y eficaces.\n",
            "\n",
            "Similitud: 0.086 | Documento 6: La ciencia ficción es uno de los géneros literarios más populares, explorando temas como el viaje en el tiempo, la inteligencia artificial y la vida en otros planetas. Este género no solo entretiene, sino que también invita a reflexionar sobre el futuro de la humanidad y las implicaciones de los avances tecnológicos.\n",
            "\n",
            "Similitud: 0.082 | Documento 2: El desarrollo de videojuegos ha alcanzado un nuevo nivel con tecnologías como la realidad aumentada y la inteligencia artificial. Los jugadores ahora pueden interactuar en mundos virtuales más inmersivos. Este crecimiento también impulsa el mercado de los e-sports, donde las competencias profesionales atraen a millones de espectadores en todo el mundo.\n",
            "\n",
            "Similitud: 0.073 | Documento 1: La inteligencia artificial continúa avanzando rápidamente, transformando sectores como la salud y las finanzas. Las empresas están adoptando algoritmos de aprendizaje automático para mejorar la eficiencia. Sin embargo, el desafío principal sigue siendo garantizar que las decisiones basadas en datos sean justas y no perpetúen sesgos. La ética es fundamental en este contexto.\n",
            "\n",
            "Similitud: 0.015 | Documento 7: El desarrollo personal se ha convertido en una prioridad para muchas personas que buscan mejorar su calidad de vida. Desde la adopción de hábitos saludables hasta el aprendizaje de nuevas habilidades, el enfoque en el crecimiento individual ha llevado a un aumento en la demanda de libros, cursos y aplicaciones que promueven el bienestar integral.\n",
            "\n",
            "Similitud: 0.012 | Documento 4: La educación a distancia ha permitido a millones de estudiantes acceder a programas de calidad sin importar su ubicación. La flexibilidad es uno de los mayores beneficios, especialmente para aquellos con trabajos a tiempo completo. Aunque la falta de interacción presencial es un reto, las herramientas digitales siguen mejorando la experiencia educativa.\n",
            "\n",
            "Similitud: 0.01 | Documento 3: El comercio electrónico ha cambiado la forma en que compramos. Con la creciente demanda de compras en línea, las empresas están optimizando sus plataformas digitales para ofrecer mejores experiencias de usuario. Desde recomendaciones personalizadas hasta pagos rápidos, los avances en tecnología siguen facilitando las transacciones diarias de los consumidores.\n",
            "\n",
            "Similitud: 0.008 | Documento 5: El cine ha evolucionado con los años, incorporando efectos visuales cada vez más realistas. Las producciones cinematográficas utilizan tecnologías avanzadas para crear escenas que desafían la realidad. Además, el acceso a plataformas de streaming ha transformado cómo y cuándo el público consume contenido, democratizando el acceso a películas y series.\n",
            "\n",
            "------------------------------------------------------------\n",
            "Query 2: beneficios de la educación a distancia\n",
            "\n",
            "Similitud: 0.331 | Documento 4: La educación a distancia ha permitido a millones de estudiantes acceder a programas de calidad sin importar su ubicación. La flexibilidad es uno de los mayores beneficios, especialmente para aquellos con trabajos a tiempo completo. Aunque la falta de interacción presencial es un reto, las herramientas digitales siguen mejorando la experiencia educativa.\n",
            "\n",
            "Similitud: 0.009 | Documento 7: El desarrollo personal se ha convertido en una prioridad para muchas personas que buscan mejorar su calidad de vida. Desde la adopción de hábitos saludables hasta el aprendizaje de nuevas habilidades, el enfoque en el crecimiento individual ha llevado a un aumento en la demanda de libros, cursos y aplicaciones que promueven el bienestar integral.\n",
            "\n",
            "Similitud: 0.009 | Documento 8: Los avances en la medicina están cambiando la forma en que se diagnostican y tratan las enfermedades. Desde la telemedicina hasta los dispositivos portátiles que monitorean la salud en tiempo real, la tecnología está permitiendo a los médicos ofrecer cuidados más personalizados. El futuro de la medicina es prometedor, con tratamientos más accesibles y eficaces.\n",
            "\n",
            "Similitud: 0.007 | Documento 2: El desarrollo de videojuegos ha alcanzado un nuevo nivel con tecnologías como la realidad aumentada y la inteligencia artificial. Los jugadores ahora pueden interactuar en mundos virtuales más inmersivos. Este crecimiento también impulsa el mercado de los e-sports, donde las competencias profesionales atraen a millones de espectadores en todo el mundo.\n",
            "\n",
            "Similitud: 0.007 | Documento 3: El comercio electrónico ha cambiado la forma en que compramos. Con la creciente demanda de compras en línea, las empresas están optimizando sus plataformas digitales para ofrecer mejores experiencias de usuario. Desde recomendaciones personalizadas hasta pagos rápidos, los avances en tecnología siguen facilitando las transacciones diarias de los consumidores.\n",
            "\n",
            "Similitud: 0.007 | Documento 6: La ciencia ficción es uno de los géneros literarios más populares, explorando temas como el viaje en el tiempo, la inteligencia artificial y la vida en otros planetas. Este género no solo entretiene, sino que también invita a reflexionar sobre el futuro de la humanidad y las implicaciones de los avances tecnológicos.\n",
            "\n",
            "Similitud: 0.004 | Documento 1: La inteligencia artificial continúa avanzando rápidamente, transformando sectores como la salud y las finanzas. Las empresas están adoptando algoritmos de aprendizaje automático para mejorar la eficiencia. Sin embargo, el desafío principal sigue siendo garantizar que las decisiones basadas en datos sean justas y no perpetúen sesgos. La ética es fundamental en este contexto.\n",
            "\n",
            "Similitud: 0.004 | Documento 5: El cine ha evolucionado con los años, incorporando efectos visuales cada vez más realistas. Las producciones cinematográficas utilizan tecnologías avanzadas para crear escenas que desafían la realidad. Además, el acceso a plataformas de streaming ha transformado cómo y cuándo el público consume contenido, democratizando el acceso a películas y series.\n",
            "\n",
            "------------------------------------------------------------\n",
            "Query 3: realidad aumentada en videojuegos\n",
            "\n",
            "Similitud: 0.262 | Documento 2: El desarrollo de videojuegos ha alcanzado un nuevo nivel con tecnologías como la realidad aumentada y la inteligencia artificial. Los jugadores ahora pueden interactuar en mundos virtuales más inmersivos. Este crecimiento también impulsa el mercado de los e-sports, donde las competencias profesionales atraen a millones de espectadores en todo el mundo.\n",
            "\n",
            "Similitud: 0.111 | Documento 8: Los avances en la medicina están cambiando la forma en que se diagnostican y tratan las enfermedades. Desde la telemedicina hasta los dispositivos portátiles que monitorean la salud en tiempo real, la tecnología está permitiendo a los médicos ofrecer cuidados más personalizados. El futuro de la medicina es prometedor, con tratamientos más accesibles y eficaces.\n",
            "\n",
            "Similitud: 0.045 | Documento 5: El cine ha evolucionado con los años, incorporando efectos visuales cada vez más realistas. Las producciones cinematográficas utilizan tecnologías avanzadas para crear escenas que desafían la realidad. Además, el acceso a plataformas de streaming ha transformado cómo y cuándo el público consume contenido, democratizando el acceso a películas y series.\n",
            "\n",
            "Similitud: 0.008 | Documento 4: La educación a distancia ha permitido a millones de estudiantes acceder a programas de calidad sin importar su ubicación. La flexibilidad es uno de los mayores beneficios, especialmente para aquellos con trabajos a tiempo completo. Aunque la falta de interacción presencial es un reto, las herramientas digitales siguen mejorando la experiencia educativa.\n",
            "\n",
            "Similitud: 0.008 | Documento 7: El desarrollo personal se ha convertido en una prioridad para muchas personas que buscan mejorar su calidad de vida. Desde la adopción de hábitos saludables hasta el aprendizaje de nuevas habilidades, el enfoque en el crecimiento individual ha llevado a un aumento en la demanda de libros, cursos y aplicaciones que promueven el bienestar integral.\n",
            "\n",
            "Similitud: 0.006 | Documento 3: El comercio electrónico ha cambiado la forma en que compramos. Con la creciente demanda de compras en línea, las empresas están optimizando sus plataformas digitales para ofrecer mejores experiencias de usuario. Desde recomendaciones personalizadas hasta pagos rápidos, los avances en tecnología siguen facilitando las transacciones diarias de los consumidores.\n",
            "\n",
            "Similitud: 0.006 | Documento 6: La ciencia ficción es uno de los géneros literarios más populares, explorando temas como el viaje en el tiempo, la inteligencia artificial y la vida en otros planetas. Este género no solo entretiene, sino que también invita a reflexionar sobre el futuro de la humanidad y las implicaciones de los avances tecnológicos.\n",
            "\n",
            "Similitud: 0.004 | Documento 1: La inteligencia artificial continúa avanzando rápidamente, transformando sectores como la salud y las finanzas. Las empresas están adoptando algoritmos de aprendizaje automático para mejorar la eficiencia. Sin embargo, el desafío principal sigue siendo garantizar que las decisiones basadas en datos sean justas y no perpetúen sesgos. La ética es fundamental en este contexto.\n",
            "\n",
            "------------------------------------------------------------\n",
            "Query 4: desarrollo personal y hábitos saludables\n",
            "\n",
            "Similitud: 0.332 | Documento 7: El desarrollo personal se ha convertido en una prioridad para muchas personas que buscan mejorar su calidad de vida. Desde la adopción de hábitos saludables hasta el aprendizaje de nuevas habilidades, el enfoque en el crecimiento individual ha llevado a un aumento en la demanda de libros, cursos y aplicaciones que promueven el bienestar integral.\n",
            "\n",
            "Similitud: 0.059 | Documento 8: Los avances en la medicina están cambiando la forma en que se diagnostican y tratan las enfermedades. Desde la telemedicina hasta los dispositivos portátiles que monitorean la salud en tiempo real, la tecnología está permitiendo a los médicos ofrecer cuidados más personalizados. El futuro de la medicina es prometedor, con tratamientos más accesibles y eficaces.\n",
            "\n",
            "Similitud: 0.054 | Documento 1: La inteligencia artificial continúa avanzando rápidamente, transformando sectores como la salud y las finanzas. Las empresas están adoptando algoritmos de aprendizaje automático para mejorar la eficiencia. Sin embargo, el desafío principal sigue siendo garantizar que las decisiones basadas en datos sean justas y no perpetúen sesgos. La ética es fundamental en este contexto.\n",
            "\n",
            "Similitud: 0.047 | Documento 2: El desarrollo de videojuegos ha alcanzado un nuevo nivel con tecnologías como la realidad aumentada y la inteligencia artificial. Los jugadores ahora pueden interactuar en mundos virtuales más inmersivos. Este crecimiento también impulsa el mercado de los e-sports, donde las competencias profesionales atraen a millones de espectadores en todo el mundo.\n",
            "\n",
            "Similitud: 0.028 | Documento 4: La educación a distancia ha permitido a millones de estudiantes acceder a programas de calidad sin importar su ubicación. La flexibilidad es uno de los mayores beneficios, especialmente para aquellos con trabajos a tiempo completo. Aunque la falta de interacción presencial es un reto, las herramientas digitales siguen mejorando la experiencia educativa.\n",
            "\n",
            "Similitud: 0.017 | Documento 6: La ciencia ficción es uno de los géneros literarios más populares, explorando temas como el viaje en el tiempo, la inteligencia artificial y la vida en otros planetas. Este género no solo entretiene, sino que también invita a reflexionar sobre el futuro de la humanidad y las implicaciones de los avances tecnológicos.\n",
            "\n",
            "Similitud: 0.007 | Documento 5: El cine ha evolucionado con los años, incorporando efectos visuales cada vez más realistas. Las producciones cinematográficas utilizan tecnologías avanzadas para crear escenas que desafían la realidad. Además, el acceso a plataformas de streaming ha transformado cómo y cuándo el público consume contenido, democratizando el acceso a películas y series.\n",
            "\n",
            "Similitud: 0.0 | Documento 3: El comercio electrónico ha cambiado la forma en que compramos. Con la creciente demanda de compras en línea, las empresas están optimizando sus plataformas digitales para ofrecer mejores experiencias de usuario. Desde recomendaciones personalizadas hasta pagos rápidos, los avances en tecnología siguen facilitando las transacciones diarias de los consumidores.\n",
            "\n",
            "------------------------------------------------------------\n",
            "Query 5: futuro del comercio electrónico\n",
            "\n",
            "Similitud: 0.257 | Documento 3: El comercio electrónico ha cambiado la forma en que compramos. Con la creciente demanda de compras en línea, las empresas están optimizando sus plataformas digitales para ofrecer mejores experiencias de usuario. Desde recomendaciones personalizadas hasta pagos rápidos, los avances en tecnología siguen facilitando las transacciones diarias de los consumidores.\n",
            "\n",
            "Similitud: 0.06 | Documento 6: La ciencia ficción es uno de los géneros literarios más populares, explorando temas como el viaje en el tiempo, la inteligencia artificial y la vida en otros planetas. Este género no solo entretiene, sino que también invita a reflexionar sobre el futuro de la humanidad y las implicaciones de los avances tecnológicos.\n",
            "\n",
            "Similitud: 0.055 | Documento 8: Los avances en la medicina están cambiando la forma en que se diagnostican y tratan las enfermedades. Desde la telemedicina hasta los dispositivos portátiles que monitorean la salud en tiempo real, la tecnología está permitiendo a los médicos ofrecer cuidados más personalizados. El futuro de la medicina es prometedor, con tratamientos más accesibles y eficaces.\n",
            "\n",
            "Similitud: 0.002 | Documento 5: El cine ha evolucionado con los años, incorporando efectos visuales cada vez más realistas. Las producciones cinematográficas utilizan tecnologías avanzadas para crear escenas que desafían la realidad. Además, el acceso a plataformas de streaming ha transformado cómo y cuándo el público consume contenido, democratizando el acceso a películas y series.\n",
            "\n",
            "Similitud: 0.002 | Documento 7: El desarrollo personal se ha convertido en una prioridad para muchas personas que buscan mejorar su calidad de vida. Desde la adopción de hábitos saludables hasta el aprendizaje de nuevas habilidades, el enfoque en el crecimiento individual ha llevado a un aumento en la demanda de libros, cursos y aplicaciones que promueven el bienestar integral.\n",
            "\n",
            "Similitud: 0.001 | Documento 2: El desarrollo de videojuegos ha alcanzado un nuevo nivel con tecnologías como la realidad aumentada y la inteligencia artificial. Los jugadores ahora pueden interactuar en mundos virtuales más inmersivos. Este crecimiento también impulsa el mercado de los e-sports, donde las competencias profesionales atraen a millones de espectadores en todo el mundo.\n",
            "\n",
            "Similitud: 0.0 | Documento 1: La inteligencia artificial continúa avanzando rápidamente, transformando sectores como la salud y las finanzas. Las empresas están adoptando algoritmos de aprendizaje automático para mejorar la eficiencia. Sin embargo, el desafío principal sigue siendo garantizar que las decisiones basadas en datos sean justas y no perpetúen sesgos. La ética es fundamental en este contexto.\n",
            "\n",
            "Similitud: 0.0 | Documento 4: La educación a distancia ha permitido a millones de estudiantes acceder a programas de calidad sin importar su ubicación. La flexibilidad es uno de los mayores beneficios, especialmente para aquellos con trabajos a tiempo completo. Aunque la falta de interacción presencial es un reto, las herramientas digitales siguen mejorando la experiencia educativa.\n",
            "\n",
            "------------------------------------------------------------\n",
            "Query 6: tecnologías en cine moderno\n",
            "\n",
            "Similitud: 0.168 | Documento 5: El cine ha evolucionado con los años, incorporando efectos visuales cada vez más realistas. Las producciones cinematográficas utilizan tecnologías avanzadas para crear escenas que desafían la realidad. Además, el acceso a plataformas de streaming ha transformado cómo y cuándo el público consume contenido, democratizando el acceso a películas y series.\n",
            "\n",
            "Similitud: 0.067 | Documento 6: La ciencia ficción es uno de los géneros literarios más populares, explorando temas como el viaje en el tiempo, la inteligencia artificial y la vida en otros planetas. Este género no solo entretiene, sino que también invita a reflexionar sobre el futuro de la humanidad y las implicaciones de los avances tecnológicos.\n",
            "\n",
            "Similitud: 0.066 | Documento 3: El comercio electrónico ha cambiado la forma en que compramos. Con la creciente demanda de compras en línea, las empresas están optimizando sus plataformas digitales para ofrecer mejores experiencias de usuario. Desde recomendaciones personalizadas hasta pagos rápidos, los avances en tecnología siguen facilitando las transacciones diarias de los consumidores.\n",
            "\n",
            "Similitud: 0.066 | Documento 8: Los avances en la medicina están cambiando la forma en que se diagnostican y tratan las enfermedades. Desde la telemedicina hasta los dispositivos portátiles que monitorean la salud en tiempo real, la tecnología está permitiendo a los médicos ofrecer cuidados más personalizados. El futuro de la medicina es prometedor, con tratamientos más accesibles y eficaces.\n",
            "\n",
            "Similitud: 0.064 | Documento 2: El desarrollo de videojuegos ha alcanzado un nuevo nivel con tecnologías como la realidad aumentada y la inteligencia artificial. Los jugadores ahora pueden interactuar en mundos virtuales más inmersivos. Este crecimiento también impulsa el mercado de los e-sports, donde las competencias profesionales atraen a millones de espectadores en todo el mundo.\n",
            "\n",
            "Similitud: 0.057 | Documento 1: La inteligencia artificial continúa avanzando rápidamente, transformando sectores como la salud y las finanzas. Las empresas están adoptando algoritmos de aprendizaje automático para mejorar la eficiencia. Sin embargo, el desafío principal sigue siendo garantizar que las decisiones basadas en datos sean justas y no perpetúen sesgos. La ética es fundamental en este contexto.\n",
            "\n",
            "Similitud: 0.01 | Documento 7: El desarrollo personal se ha convertido en una prioridad para muchas personas que buscan mejorar su calidad de vida. Desde la adopción de hábitos saludables hasta el aprendizaje de nuevas habilidades, el enfoque en el crecimiento individual ha llevado a un aumento en la demanda de libros, cursos y aplicaciones que promueven el bienestar integral.\n",
            "\n",
            "Similitud: 0.009 | Documento 4: La educación a distancia ha permitido a millones de estudiantes acceder a programas de calidad sin importar su ubicación. La flexibilidad es uno de los mayores beneficios, especialmente para aquellos con trabajos a tiempo completo. Aunque la falta de interacción presencial es un reto, las herramientas digitales siguen mejorando la experiencia educativa.\n",
            "\n",
            "------------------------------------------------------------\n",
            "Query 7: competencias de e-sports\n",
            "\n",
            "Similitud: 0.281 | Documento 2: El desarrollo de videojuegos ha alcanzado un nuevo nivel con tecnologías como la realidad aumentada y la inteligencia artificial. Los jugadores ahora pueden interactuar en mundos virtuales más inmersivos. Este crecimiento también impulsa el mercado de los e-sports, donde las competencias profesionales atraen a millones de espectadores en todo el mundo.\n",
            "\n",
            "Similitud: 0.01 | Documento 4: La educación a distancia ha permitido a millones de estudiantes acceder a programas de calidad sin importar su ubicación. La flexibilidad es uno de los mayores beneficios, especialmente para aquellos con trabajos a tiempo completo. Aunque la falta de interacción presencial es un reto, las herramientas digitales siguen mejorando la experiencia educativa.\n",
            "\n",
            "Similitud: 0.01 | Documento 7: El desarrollo personal se ha convertido en una prioridad para muchas personas que buscan mejorar su calidad de vida. Desde la adopción de hábitos saludables hasta el aprendizaje de nuevas habilidades, el enfoque en el crecimiento individual ha llevado a un aumento en la demanda de libros, cursos y aplicaciones que promueven el bienestar integral.\n",
            "\n",
            "Similitud: 0.01 | Documento 8: Los avances en la medicina están cambiando la forma en que se diagnostican y tratan las enfermedades. Desde la telemedicina hasta los dispositivos portátiles que monitorean la salud en tiempo real, la tecnología está permitiendo a los médicos ofrecer cuidados más personalizados. El futuro de la medicina es prometedor, con tratamientos más accesibles y eficaces.\n",
            "\n",
            "Similitud: 0.008 | Documento 3: El comercio electrónico ha cambiado la forma en que compramos. Con la creciente demanda de compras en línea, las empresas están optimizando sus plataformas digitales para ofrecer mejores experiencias de usuario. Desde recomendaciones personalizadas hasta pagos rápidos, los avances en tecnología siguen facilitando las transacciones diarias de los consumidores.\n",
            "\n",
            "Similitud: 0.008 | Documento 6: La ciencia ficción es uno de los géneros literarios más populares, explorando temas como el viaje en el tiempo, la inteligencia artificial y la vida en otros planetas. Este género no solo entretiene, sino que también invita a reflexionar sobre el futuro de la humanidad y las implicaciones de los avances tecnológicos.\n",
            "\n",
            "Similitud: 0.005 | Documento 1: La inteligencia artificial continúa avanzando rápidamente, transformando sectores como la salud y las finanzas. Las empresas están adoptando algoritmos de aprendizaje automático para mejorar la eficiencia. Sin embargo, el desafío principal sigue siendo garantizar que las decisiones basadas en datos sean justas y no perpetúen sesgos. La ética es fundamental en este contexto.\n",
            "\n",
            "Similitud: 0.005 | Documento 5: El cine ha evolucionado con los años, incorporando efectos visuales cada vez más realistas. Las producciones cinematográficas utilizan tecnologías avanzadas para crear escenas que desafían la realidad. Además, el acceso a plataformas de streaming ha transformado cómo y cuándo el público consume contenido, democratizando el acceso a películas y series.\n",
            "\n",
            "------------------------------------------------------------\n",
            "Query 8: diagnóstico con dispositivos portátiles\n",
            "\n",
            "Similitud: 0.285 | Documento 8: Los avances en la medicina están cambiando la forma en que se diagnostican y tratan las enfermedades. Desde la telemedicina hasta los dispositivos portátiles que monitorean la salud en tiempo real, la tecnología está permitiendo a los médicos ofrecer cuidados más personalizados. El futuro de la medicina es prometedor, con tratamientos más accesibles y eficaces.\n",
            "\n",
            "Similitud: 0.044 | Documento 4: La educación a distancia ha permitido a millones de estudiantes acceder a programas de calidad sin importar su ubicación. La flexibilidad es uno de los mayores beneficios, especialmente para aquellos con trabajos a tiempo completo. Aunque la falta de interacción presencial es un reto, las herramientas digitales siguen mejorando la experiencia educativa.\n",
            "\n",
            "Similitud: 0.018 | Documento 6: La ciencia ficción es uno de los géneros literarios más populares, explorando temas como el viaje en el tiempo, la inteligencia artificial y la vida en otros planetas. Este género no solo entretiene, sino que también invita a reflexionar sobre el futuro de la humanidad y las implicaciones de los avances tecnológicos.\n",
            "\n",
            "Similitud: 0.014 | Documento 1: La inteligencia artificial continúa avanzando rápidamente, transformando sectores como la salud y las finanzas. Las empresas están adoptando algoritmos de aprendizaje automático para mejorar la eficiencia. Sin embargo, el desafío principal sigue siendo garantizar que las decisiones basadas en datos sean justas y no perpetúen sesgos. La ética es fundamental en este contexto.\n",
            "\n",
            "Similitud: 0.011 | Documento 5: El cine ha evolucionado con los años, incorporando efectos visuales cada vez más realistas. Las producciones cinematográficas utilizan tecnologías avanzadas para crear escenas que desafían la realidad. Además, el acceso a plataformas de streaming ha transformado cómo y cuándo el público consume contenido, democratizando el acceso a películas y series.\n",
            "\n",
            "Similitud: 0.009 | Documento 2: El desarrollo de videojuegos ha alcanzado un nuevo nivel con tecnologías como la realidad aumentada y la inteligencia artificial. Los jugadores ahora pueden interactuar en mundos virtuales más inmersivos. Este crecimiento también impulsa el mercado de los e-sports, donde las competencias profesionales atraen a millones de espectadores en todo el mundo.\n",
            "\n",
            "Similitud: 0.007 | Documento 3: El comercio electrónico ha cambiado la forma en que compramos. Con la creciente demanda de compras en línea, las empresas están optimizando sus plataformas digitales para ofrecer mejores experiencias de usuario. Desde recomendaciones personalizadas hasta pagos rápidos, los avances en tecnología siguen facilitando las transacciones diarias de los consumidores.\n",
            "\n",
            "Similitud: 0.003 | Documento 7: El desarrollo personal se ha convertido en una prioridad para muchas personas que buscan mejorar su calidad de vida. Desde la adopción de hábitos saludables hasta el aprendizaje de nuevas habilidades, el enfoque en el crecimiento individual ha llevado a un aumento en la demanda de libros, cursos y aplicaciones que promueven el bienestar integral.\n",
            "\n",
            "------------------------------------------------------------\n",
            "Query 9: literatura de ciencia ficción\n",
            "\n",
            "Similitud: 0.294 | Documento 6: La ciencia ficción es uno de los géneros literarios más populares, explorando temas como el viaje en el tiempo, la inteligencia artificial y la vida en otros planetas. Este género no solo entretiene, sino que también invita a reflexionar sobre el futuro de la humanidad y las implicaciones de los avances tecnológicos.\n",
            "\n",
            "Similitud: 0.01 | Documento 4: La educación a distancia ha permitido a millones de estudiantes acceder a programas de calidad sin importar su ubicación. La flexibilidad es uno de los mayores beneficios, especialmente para aquellos con trabajos a tiempo completo. Aunque la falta de interacción presencial es un reto, las herramientas digitales siguen mejorando la experiencia educativa.\n",
            "\n",
            "Similitud: 0.01 | Documento 7: El desarrollo personal se ha convertido en una prioridad para muchas personas que buscan mejorar su calidad de vida. Desde la adopción de hábitos saludables hasta el aprendizaje de nuevas habilidades, el enfoque en el crecimiento individual ha llevado a un aumento en la demanda de libros, cursos y aplicaciones que promueven el bienestar integral.\n",
            "\n",
            "Similitud: 0.01 | Documento 8: Los avances en la medicina están cambiando la forma en que se diagnostican y tratan las enfermedades. Desde la telemedicina hasta los dispositivos portátiles que monitorean la salud en tiempo real, la tecnología está permitiendo a los médicos ofrecer cuidados más personalizados. El futuro de la medicina es prometedor, con tratamientos más accesibles y eficaces.\n",
            "\n",
            "Similitud: 0.008 | Documento 2: El desarrollo de videojuegos ha alcanzado un nuevo nivel con tecnologías como la realidad aumentada y la inteligencia artificial. Los jugadores ahora pueden interactuar en mundos virtuales más inmersivos. Este crecimiento también impulsa el mercado de los e-sports, donde las competencias profesionales atraen a millones de espectadores en todo el mundo.\n",
            "\n",
            "Similitud: 0.008 | Documento 3: El comercio electrónico ha cambiado la forma en que compramos. Con la creciente demanda de compras en línea, las empresas están optimizando sus plataformas digitales para ofrecer mejores experiencias de usuario. Desde recomendaciones personalizadas hasta pagos rápidos, los avances en tecnología siguen facilitando las transacciones diarias de los consumidores.\n",
            "\n",
            "Similitud: 0.005 | Documento 1: La inteligencia artificial continúa avanzando rápidamente, transformando sectores como la salud y las finanzas. Las empresas están adoptando algoritmos de aprendizaje automático para mejorar la eficiencia. Sin embargo, el desafío principal sigue siendo garantizar que las decisiones basadas en datos sean justas y no perpetúen sesgos. La ética es fundamental en este contexto.\n",
            "\n",
            "Similitud: 0.005 | Documento 5: El cine ha evolucionado con los años, incorporando efectos visuales cada vez más realistas. Las producciones cinematográficas utilizan tecnologías avanzadas para crear escenas que desafían la realidad. Además, el acceso a plataformas de streaming ha transformado cómo y cuándo el público consume contenido, democratizando el acceso a películas y series.\n",
            "\n",
            "------------------------------------------------------------\n",
            "Query 10: plataformas de streaming\n",
            "\n",
            "Similitud: 0.187 | Documento 5: El cine ha evolucionado con los años, incorporando efectos visuales cada vez más realistas. Las producciones cinematográficas utilizan tecnologías avanzadas para crear escenas que desafían la realidad. Además, el acceso a plataformas de streaming ha transformado cómo y cuándo el público consume contenido, democratizando el acceso a películas y series.\n",
            "\n",
            "Similitud: 0.129 | Documento 3: El comercio electrónico ha cambiado la forma en que compramos. Con la creciente demanda de compras en línea, las empresas están optimizando sus plataformas digitales para ofrecer mejores experiencias de usuario. Desde recomendaciones personalizadas hasta pagos rápidos, los avances en tecnología siguen facilitando las transacciones diarias de los consumidores.\n",
            "\n",
            "Similitud: 0.065 | Documento 8: Los avances en la medicina están cambiando la forma en que se diagnostican y tratan las enfermedades. Desde la telemedicina hasta los dispositivos portátiles que monitorean la salud en tiempo real, la tecnología está permitiendo a los médicos ofrecer cuidados más personalizados. El futuro de la medicina es prometedor, con tratamientos más accesibles y eficaces.\n",
            "\n",
            "Similitud: 0.011 | Documento 4: La educación a distancia ha permitido a millones de estudiantes acceder a programas de calidad sin importar su ubicación. La flexibilidad es uno de los mayores beneficios, especialmente para aquellos con trabajos a tiempo completo. Aunque la falta de interacción presencial es un reto, las herramientas digitales siguen mejorando la experiencia educativa.\n",
            "\n",
            "Similitud: 0.003 | Documento 2: El desarrollo de videojuegos ha alcanzado un nuevo nivel con tecnologías como la realidad aumentada y la inteligencia artificial. Los jugadores ahora pueden interactuar en mundos virtuales más inmersivos. Este crecimiento también impulsa el mercado de los e-sports, donde las competencias profesionales atraen a millones de espectadores en todo el mundo.\n",
            "\n",
            "Similitud: 0.003 | Documento 6: La ciencia ficción es uno de los géneros literarios más populares, explorando temas como el viaje en el tiempo, la inteligencia artificial y la vida en otros planetas. Este género no solo entretiene, sino que también invita a reflexionar sobre el futuro de la humanidad y las implicaciones de los avances tecnológicos.\n",
            "\n",
            "Similitud: 0.003 | Documento 7: El desarrollo personal se ha convertido en una prioridad para muchas personas que buscan mejorar su calidad de vida. Desde la adopción de hábitos saludables hasta el aprendizaje de nuevas habilidades, el enfoque en el crecimiento individual ha llevado a un aumento en la demanda de libros, cursos y aplicaciones que promueven el bienestar integral.\n",
            "\n",
            "Similitud: 0.0 | Documento 1: La inteligencia artificial continúa avanzando rápidamente, transformando sectores como la salud y las finanzas. Las empresas están adoptando algoritmos de aprendizaje automático para mejorar la eficiencia. Sin embargo, el desafío principal sigue siendo garantizar que las decisiones basadas en datos sean justas y no perpetúen sesgos. La ética es fundamental en este contexto.\n",
            "\n",
            "------------------------------------------------------------\n"
          ]
        }
      ],
      "source": [
        "for i in range(len(ranking)):\n",
        "  print(f'Query {i+1}: {queries[i]}\\n')\n",
        "  for j in range(len(ranking[i])):\n",
        "    documento = list(ranking[i].keys())[j] #Para obtener los indices para buscar los documentos\n",
        "    similitud = list(ranking[i].values())[j]\n",
        "    print(f'Similitud: {similitud} | Documento {documento + 1}:{corpus[documento]}')\n",
        "  print('------------------------------------------------------------')"
      ]
    }
  ],
  "metadata": {
    "colab": {
      "provenance": []
    },
    "kernelspec": {
      "display_name": "Python 3",
      "language": "python",
      "name": "python3"
    },
    "language_info": {
      "codemirror_mode": {
        "name": "ipython",
        "version": 3
      },
      "file_extension": ".py",
      "mimetype": "text/x-python",
      "name": "python",
      "nbconvert_exporter": "python",
      "pygments_lexer": "ipython3",
      "version": "3.12.5"
    }
  },
  "nbformat": 4,
  "nbformat_minor": 5
}